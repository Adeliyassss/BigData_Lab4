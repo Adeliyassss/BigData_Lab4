{
 "cells": [
  {
   "cell_type": "code",
   "execution_count": 21,
   "id": "initial_id",
   "metadata": {
    "collapsed": true,
    "ExecuteTime": {
     "end_time": "2023-12-07T16:14:09.419185Z",
     "start_time": "2023-12-07T16:14:09.269194Z"
    }
   },
   "outputs": [],
   "source": [
    "import csv\n",
    "import random\n",
    "\n",
    "rows = 1000\n",
    "with open('new_data.csv', 'w') as f:\n",
    "    file = csv.writer(f)\n",
    "\n",
    "    file.writerow(['salary', 'city', 'age', 'vacation_prefer', 'transport_prefer', 'target'])\n",
    "   \n",
    "    for _ in range(rows):\n",
    "        salary = random.randint(50000, 1200000)\n",
    "        city = random.choice(['Bishkek', 'Karakol', 'Osh', 'Kara-Balta', 'Naryn', 'Talas', 'Batken', 'Djalal-Abad', 'Balykchy'])\n",
    "        age = random.randint(20, 80)\n",
    "        vacation_prefer = random.choice(['Beach', 'Shopping', 'At home', 'Walking', 'Sport', 'Mountain', 'Park', 'Diving'])\n",
    "        transport_prefer = random.choice(['auto', 'plane', 'train', 'boat', 'cruise'])\n",
    "        target = random.choice(['Astana', 'Ankara', 'Berlin', 'Tashkent', 'Washington', 'Paris', 'Vien', 'Rome'])\n",
    "    \n",
    "        file.writerow([salary, city, age, vacation_prefer, transport_prefer, target])"
   ]
  },
  {
   "cell_type": "code",
   "execution_count": 22,
   "outputs": [
    {
     "data": {
      "text/plain": "salary              0\ncity                0\nage                 0\nvacation_prefer     0\ntransport_prefer    0\ntarget              0\ndtype: int64"
     },
     "execution_count": 22,
     "metadata": {},
     "output_type": "execute_result"
    }
   ],
   "source": [
    "import pandas as pd\n",
    "\n",
    "holiday_df = pd.read_csv('new_data.csv')\n",
    "df = holiday_df.copy(deep=True)\n",
    "holiday_df.isnull().sum()"
   ],
   "metadata": {
    "collapsed": false,
    "ExecuteTime": {
     "end_time": "2023-12-07T16:14:09.450446100Z",
     "start_time": "2023-12-07T16:14:09.298464Z"
    }
   },
   "id": "c075d4ebfba3dea9"
  },
  {
   "cell_type": "code",
   "execution_count": 23,
   "outputs": [
    {
     "name": "stdout",
     "output_type": "stream",
     "text": [
      "predicted target city: Vien\n",
      "Accuracy: 0.144\n"
     ]
    }
   ],
   "source": [
    "from sklearn.model_selection import train_test_split\n",
    "from sklearn.svm import SVC\n",
    "from sklearn.preprocessing import MinMaxScaler, OneHotEncoder\n",
    "from sklearn.compose import ColumnTransformer\n",
    "from sklearn.pipeline import Pipeline\n",
    "from sklearn.metrics import accuracy_score\n",
    "\n",
    "categorical_columns = ['city', 'vacation_prefer', 'transport_prefer', 'target']\n",
    "\n",
    "X = df.drop('target', axis=1)\n",
    "y = df['target']\n",
    "\n",
    "X_train, X_test, y_train, y_test = train_test_split(X, y, random_state=0)\n",
    "\n",
    "num_features = X.select_dtypes(include=['int64', 'float64']).columns\n",
    "transformer = MinMaxScaler()\n",
    "\n",
    "# exclude 'target'\n",
    "cat_features = categorical_columns[:-1]\n",
    "transformer1 = OneHotEncoder(handle_unknown='ignore')\n",
    "\n",
    "preprocessor = ColumnTransformer(\n",
    "    transformers=[\n",
    "        ('num', transformer, num_features),\n",
    "        ('cat', transformer1, cat_features)\n",
    "    ])\n",
    "\n",
    "svm = SVC()\n",
    "clf = Pipeline(steps=[('preprocessor', preprocessor),\n",
    "                      ('classifier', svm)])\n",
    "clf.fit(X_train, y_train)\n",
    "\n",
    "data_predict = pd.DataFrame({\n",
    "    'salary': [80000],\n",
    "    'city': ['Osh'],\n",
    "    'age': [22],\n",
    "    'vacation_prefer': ['Camping'],\n",
    "    'transport_prefer': ['bus']\n",
    "})\n",
    "\n",
    "# ensure the columns are in the same order as the training data\n",
    "data_predict = data_predict[X.columns]\n",
    "\n",
    "prediction = clf.predict(data_predict)\n",
    "print('predicted target city:', prediction[0])\n",
    "y_pred = clf.predict(X_test)\n",
    "accuracy = accuracy_score(y_test, y_pred)\n",
    "print('Accuracy:', accuracy)"
   ],
   "metadata": {
    "collapsed": false,
    "ExecuteTime": {
     "end_time": "2023-12-07T16:14:09.568163900Z",
     "start_time": "2023-12-07T16:14:09.340915200Z"
    }
   },
   "id": "ef9cfe265f4ada02"
  },
  {
   "cell_type": "code",
   "execution_count": 24,
   "outputs": [
    {
     "data": {
      "text/plain": "      salary  city  age  vacation_prefer  transport_prefer  target\n0     341083     5   24                2                 2       6\n1     625448     4   38                7                 0       7\n2     733823     8   63                3                 0       4\n3     471425     2   78                3                 3       0\n4     933696     3   42                4                 3       5\n..       ...   ...  ...              ...               ...     ...\n995   318075     3   49                1                 3       7\n996  1171009     6   30                4                 3       3\n997   591209     4   59                1                 0       4\n998   542817     5   43                5                 1       7\n999  1096911     3   60                6                 3       3\n\n[1000 rows x 6 columns]",
      "text/html": "<div>\n<style scoped>\n    .dataframe tbody tr th:only-of-type {\n        vertical-align: middle;\n    }\n\n    .dataframe tbody tr th {\n        vertical-align: top;\n    }\n\n    .dataframe thead th {\n        text-align: right;\n    }\n</style>\n<table border=\"1\" class=\"dataframe\">\n  <thead>\n    <tr style=\"text-align: right;\">\n      <th></th>\n      <th>salary</th>\n      <th>city</th>\n      <th>age</th>\n      <th>vacation_prefer</th>\n      <th>transport_prefer</th>\n      <th>target</th>\n    </tr>\n  </thead>\n  <tbody>\n    <tr>\n      <th>0</th>\n      <td>341083</td>\n      <td>5</td>\n      <td>24</td>\n      <td>2</td>\n      <td>2</td>\n      <td>6</td>\n    </tr>\n    <tr>\n      <th>1</th>\n      <td>625448</td>\n      <td>4</td>\n      <td>38</td>\n      <td>7</td>\n      <td>0</td>\n      <td>7</td>\n    </tr>\n    <tr>\n      <th>2</th>\n      <td>733823</td>\n      <td>8</td>\n      <td>63</td>\n      <td>3</td>\n      <td>0</td>\n      <td>4</td>\n    </tr>\n    <tr>\n      <th>3</th>\n      <td>471425</td>\n      <td>2</td>\n      <td>78</td>\n      <td>3</td>\n      <td>3</td>\n      <td>0</td>\n    </tr>\n    <tr>\n      <th>4</th>\n      <td>933696</td>\n      <td>3</td>\n      <td>42</td>\n      <td>4</td>\n      <td>3</td>\n      <td>5</td>\n    </tr>\n    <tr>\n      <th>...</th>\n      <td>...</td>\n      <td>...</td>\n      <td>...</td>\n      <td>...</td>\n      <td>...</td>\n      <td>...</td>\n    </tr>\n    <tr>\n      <th>995</th>\n      <td>318075</td>\n      <td>3</td>\n      <td>49</td>\n      <td>1</td>\n      <td>3</td>\n      <td>7</td>\n    </tr>\n    <tr>\n      <th>996</th>\n      <td>1171009</td>\n      <td>6</td>\n      <td>30</td>\n      <td>4</td>\n      <td>3</td>\n      <td>3</td>\n    </tr>\n    <tr>\n      <th>997</th>\n      <td>591209</td>\n      <td>4</td>\n      <td>59</td>\n      <td>1</td>\n      <td>0</td>\n      <td>4</td>\n    </tr>\n    <tr>\n      <th>998</th>\n      <td>542817</td>\n      <td>5</td>\n      <td>43</td>\n      <td>5</td>\n      <td>1</td>\n      <td>7</td>\n    </tr>\n    <tr>\n      <th>999</th>\n      <td>1096911</td>\n      <td>3</td>\n      <td>60</td>\n      <td>6</td>\n      <td>3</td>\n      <td>3</td>\n    </tr>\n  </tbody>\n</table>\n<p>1000 rows × 6 columns</p>\n</div>"
     },
     "execution_count": 24,
     "metadata": {},
     "output_type": "execute_result"
    }
   ],
   "source": [
    "from sklearn.preprocessing import LabelEncoder\n",
    "\n",
    "categorical_columns = ['city', 'vacation_prefer', 'transport_prefer', 'target']\n",
    "le = LabelEncoder()\n",
    "\n",
    "for c in categorical_columns:\n",
    "    df[c] = le.fit_transform(df[c])\n",
    "\n",
    "df"
   ],
   "metadata": {
    "collapsed": false,
    "ExecuteTime": {
     "end_time": "2023-12-07T16:14:09.599424900Z",
     "start_time": "2023-12-07T16:14:09.480082800Z"
    }
   },
   "id": "9ad0b29e332ba185"
  },
  {
   "cell_type": "code",
   "execution_count": 25,
   "outputs": [
    {
     "name": "stdout",
     "output_type": "stream",
     "text": [
      "model accuracy: 0.12\n"
     ]
    }
   ],
   "source": [
    "from sklearn.model_selection import train_test_split\n",
    "from sklearn.preprocessing import MinMaxScaler\n",
    "from sklearn.svm import SVC\n",
    "from sklearn.metrics import accuracy_score\n",
    "\n",
    "X = df.drop('target', axis=1)\n",
    "y = df['target']\n",
    "\n",
    "# normalize\n",
    "scaler = MinMaxScaler()\n",
    "X_scaled = scaler.fit_transform(X)\n",
    "\n",
    "X_train, X_test, y_train, y_test = train_test_split(X_scaled, y, random_state=0)\n",
    "\n",
    "svm = SVC()\n",
    "svm.fit(X_train, y_train)\n",
    "\n",
    "y_pred = svm.predict(X_test)\n",
    "\n",
    "accuracy = accuracy_score(y_test, y_pred)\n",
    "print('model accuracy:', accuracy)"
   ],
   "metadata": {
    "collapsed": false,
    "ExecuteTime": {
     "end_time": "2023-12-07T16:14:09.807844200Z",
     "start_time": "2023-12-07T16:14:09.521280600Z"
    }
   },
   "id": "d3ae1f4349c15a84"
  },
  {
   "cell_type": "code",
   "execution_count": 26,
   "outputs": [
    {
     "name": "stdout",
     "output_type": "stream",
     "text": [
      "[[ 8 10  5  1  0  0  7  2]\n",
      " [ 6 12  1  4  0  2  4  0]\n",
      " [10 13  4  4  0  1  2  0]\n",
      " [10 12  5  1  0  1  5  0]\n",
      " [ 6  7  5  0  0  3  7  0]\n",
      " [ 3 10  2  2  0  0  2  0]\n",
      " [10 13  5  3  0  1  5  0]\n",
      " [12 13  4  1  0  2  4  0]]\n"
     ]
    },
    {
     "data": {
      "text/plain": "<Figure size 640x480 with 2 Axes>",
      "image/png": "[encoded data removed]"
     },
     "metadata": {},
     "output_type": "display_data"
    }
   ],
   "source": [
    "from sklearn.metrics import confusion_matrix\n",
    "import seaborn as sns\n",
    "import matplotlib.pyplot as plt\n",
    "\n",
    "confusion = confusion_matrix(y_test, y_pred)\n",
    "print(confusion)\n",
    "\n",
    "sns.heatmap(confusion, annot=True)\n",
    "\n",
    "plt.xlabel('predicted')\n",
    "plt.ylabel('actual')\n",
    "plt.show()"
   ],
   "metadata": {
    "collapsed": false,
    "ExecuteTime": {
     "end_time": "2023-12-07T16:14:10.378286900Z",
     "start_time": "2023-12-07T16:14:09.667175900Z"
    }
   },
   "id": "69032a8c117ac3f5"
  },
  {
   "cell_type": "code",
   "execution_count": 27,
   "outputs": [
    {
     "name": "stdout",
     "output_type": "stream",
     "text": [
      "best SVM score: 0.124\n",
      "best parameters: {'gamma': 100, 'C': 10}\n"
     ]
    }
   ],
   "source": [
    "from sklearn.svm import SVC\n",
    "\n",
    "best_svc = 0\n",
    "for gamma in [0.001, 0.01, 0.1, 1, 10, 100]:\n",
    "    for C in [0.001, 0.01, 0.1, 1, 10, 100]:\n",
    "        svm = SVC(gamma=gamma, C=C)\n",
    "        svm.fit(X_train, y_train)\n",
    "        s_score = svm.score(X_test, y_test)\n",
    "\n",
    "        if s_score > best_svc:\n",
    "            best_svc = s_score\n",
    "            best_combo = {'gamma': gamma, 'C': C}\n",
    "\n",
    "print('best SVM score: {}'.format(best_svc))\n",
    "print('best parameters: {}'.format(best_combo))"
   ],
   "metadata": {
    "collapsed": false,
    "ExecuteTime": {
     "end_time": "2023-12-07T16:14:13.091031300Z",
     "start_time": "2023-12-07T16:14:10.378286900Z"
    }
   },
   "id": "cefa60573e2288de"
  },
  {
   "cell_type": "code",
   "execution_count": 28,
   "outputs": [
    {
     "name": "stdout",
     "output_type": "stream",
     "text": [
      "test score: 0.112\n",
      "best params:  {'C': 10, 'gamma': 0.001}\n",
      "best score:  0.15733333333333333\n",
      "whole args view : SVC(C=10, gamma=0.001)\n"
     ]
    },
    {
     "data": {
      "text/plain": "   mean_fit_time  std_fit_time  mean_score_time  std_score_time param_C  \\\n0       0.072894      0.009242         0.016743        0.002225   0.001   \n1       0.050013      0.006253         0.015631        0.000001   0.001   \n2       0.060579      0.007118         0.018757        0.006252   0.001   \n3       0.070175      0.009636         0.021911        0.007693   0.001   \n4       0.062978      0.009927         0.018755        0.006252   0.001   \n\n  param_gamma                        params  split0_test_score  \\\n0       0.001  {'C': 0.001, 'gamma': 0.001}           0.153333   \n1        0.01   {'C': 0.001, 'gamma': 0.01}           0.153333   \n2         0.1    {'C': 0.001, 'gamma': 0.1}           0.153333   \n3           1      {'C': 0.001, 'gamma': 1}           0.153333   \n4          10     {'C': 0.001, 'gamma': 10}           0.153333   \n\n   split1_test_score  split2_test_score  split3_test_score  split4_test_score  \\\n0           0.153333           0.153333           0.146667           0.153333   \n1           0.153333           0.153333           0.146667           0.153333   \n2           0.153333           0.153333           0.146667           0.153333   \n3           0.153333           0.153333           0.146667           0.153333   \n4           0.153333           0.153333           0.146667           0.153333   \n\n   mean_test_score  std_test_score  rank_test_score  \n0            0.152        0.002667                4  \n1            0.152        0.002667                4  \n2            0.152        0.002667                4  \n3            0.152        0.002667                4  \n4            0.152        0.002667                4  ",
      "text/html": "<div>\n<style scoped>\n    .dataframe tbody tr th:only-of-type {\n        vertical-align: middle;\n    }\n\n    .dataframe tbody tr th {\n        vertical-align: top;\n    }\n\n    .dataframe thead th {\n        text-align: right;\n    }\n</style>\n<table border=\"1\" class=\"dataframe\">\n  <thead>\n    <tr style=\"text-align: right;\">\n      <th></th>\n      <th>mean_fit_time</th>\n      <th>std_fit_time</th>\n      <th>mean_score_time</th>\n      <th>std_score_time</th>\n      <th>param_C</th>\n      <th>param_gamma</th>\n      <th>params</th>\n      <th>split0_test_score</th>\n      <th>split1_test_score</th>\n      <th>split2_test_score</th>\n      <th>split3_test_score</th>\n      <th>split4_test_score</th>\n      <th>mean_test_score</th>\n      <th>std_test_score</th>\n      <th>rank_test_score</th>\n    </tr>\n  </thead>\n  <tbody>\n    <tr>\n      <th>0</th>\n      <td>0.072894</td>\n      <td>0.009242</td>\n      <td>0.016743</td>\n      <td>0.002225</td>\n      <td>0.001</td>\n      <td>0.001</td>\n      <td>{'C': 0.001, 'gamma': 0.001}</td>\n      <td>0.153333</td>\n      <td>0.153333</td>\n      <td>0.153333</td>\n      <td>0.146667</td>\n      <td>0.153333</td>\n      <td>0.152</td>\n      <td>0.002667</td>\n      <td>4</td>\n    </tr>\n    <tr>\n      <th>1</th>\n      <td>0.050013</td>\n      <td>0.006253</td>\n      <td>0.015631</td>\n      <td>0.000001</td>\n      <td>0.001</td>\n      <td>0.01</td>\n      <td>{'C': 0.001, 'gamma': 0.01}</td>\n      <td>0.153333</td>\n      <td>0.153333</td>\n      <td>0.153333</td>\n      <td>0.146667</td>\n      <td>0.153333</td>\n      <td>0.152</td>\n      <td>0.002667</td>\n      <td>4</td>\n    </tr>\n    <tr>\n      <th>2</th>\n      <td>0.060579</td>\n      <td>0.007118</td>\n      <td>0.018757</td>\n      <td>0.006252</td>\n      <td>0.001</td>\n      <td>0.1</td>\n      <td>{'C': 0.001, 'gamma': 0.1}</td>\n      <td>0.153333</td>\n      <td>0.153333</td>\n      <td>0.153333</td>\n      <td>0.146667</td>\n      <td>0.153333</td>\n      <td>0.152</td>\n      <td>0.002667</td>\n      <td>4</td>\n    </tr>\n    <tr>\n      <th>3</th>\n      <td>0.070175</td>\n      <td>0.009636</td>\n      <td>0.021911</td>\n      <td>0.007693</td>\n      <td>0.001</td>\n      <td>1</td>\n      <td>{'C': 0.001, 'gamma': 1}</td>\n      <td>0.153333</td>\n      <td>0.153333</td>\n      <td>0.153333</td>\n      <td>0.146667</td>\n      <td>0.153333</td>\n      <td>0.152</td>\n      <td>0.002667</td>\n      <td>4</td>\n    </tr>\n    <tr>\n      <th>4</th>\n      <td>0.062978</td>\n      <td>0.009927</td>\n      <td>0.018755</td>\n      <td>0.006252</td>\n      <td>0.001</td>\n      <td>10</td>\n      <td>{'C': 0.001, 'gamma': 10}</td>\n      <td>0.153333</td>\n      <td>0.153333</td>\n      <td>0.153333</td>\n      <td>0.146667</td>\n      <td>0.153333</td>\n      <td>0.152</td>\n      <td>0.002667</td>\n      <td>4</td>\n    </tr>\n  </tbody>\n</table>\n</div>"
     },
     "metadata": {},
     "output_type": "display_data"
    }
   ],
   "source": [
    "# grid search using sklearn lib\n",
    "from sklearn.model_selection import GridSearchCV\n",
    "\n",
    "grid1 = {'gamma': [0.001, 0.01, 0.1, 1, 10, 100], 'C': [0.001, 0.01, 0.1, 1, 10, 100]}\n",
    "gs1 = GridSearchCV(SVC(), grid1, cv=5)\n",
    "X_train, X_test, y_train, y_test = train_test_split(X, y, random_state=0)\n",
    "gs1.fit(X_train, y_train)\n",
    "score1 = gs1.score(X_test, y_test)\n",
    "\n",
    "print('test score:', score1)\n",
    "print('best params: ', gs1.best_params_)\n",
    "print('best score: ', gs1.best_score_)\n",
    "print('whole args view :', gs1.best_estimator_)\n",
    "\n",
    "results1 = pd.DataFrame(gs1.cv_results_)\n",
    "display(results1.head())"
   ],
   "metadata": {
    "collapsed": false,
    "ExecuteTime": {
     "end_time": "2023-12-07T16:14:30.391686900Z",
     "start_time": "2023-12-07T16:14:13.091031300Z"
    }
   },
   "id": "8d69ac65ca48e377"
  },
  {
   "cell_type": "code",
   "execution_count": 29,
   "outputs": [
    {
     "data": {
      "text/plain": "<Figure size 640x480 with 2 Axes>",
      "image/png": "[encoded data removed]"
     },
     "metadata": {},
     "output_type": "display_data"
    }
   ],
   "source": [
    "import seaborn as sns\n",
    "import matplotlib.pyplot as plt\n",
    "import numpy as np\n",
    "\n",
    "sc = np.array(results1.mean_test_score).reshape(6, 6)\n",
    "ax = sns.heatmap(sc, annot=True, xticklabels=grid1['gamma'], yticklabels=grid1['C'], cmap='hsv')\n",
    "ax.set(xlabel='gamma', ylabel='C')\n",
    "ax.xaxis.tick_top()\n",
    "\n",
    "plt.show()"
   ],
   "metadata": {
    "collapsed": false,
    "ExecuteTime": {
     "end_time": "2023-12-07T16:14:31.237773500Z",
     "start_time": "2023-12-07T16:14:30.391686900Z"
    }
   },
   "id": "f4afffa3f3cf2172"
  },
  {
   "cell_type": "code",
   "execution_count": 30,
   "outputs": [
    {
     "name": "stdout",
     "output_type": "stream",
     "text": [
      "              precision    recall  f1-score   support\n",
      "\n",
      "           0       0.12      0.24      0.16        33\n",
      "           1       0.13      0.41      0.20        29\n",
      "           2       0.13      0.12      0.12        34\n",
      "           3       0.06      0.03      0.04        34\n",
      "           4       0.00      0.00      0.00        28\n",
      "           5       0.00      0.00      0.00        19\n",
      "           6       0.14      0.14      0.14        37\n",
      "           7       0.00      0.00      0.00        36\n",
      "\n",
      "    accuracy                           0.12       250\n",
      "   macro avg       0.07      0.12      0.08       250\n",
      "weighted avg       0.08      0.12      0.09       250\n"
     ]
    },
    {
     "name": "stderr",
     "output_type": "stream",
     "text": [
      "C:\\Users\\user\\AppData\\Roaming\\Python\\Python311\\site-packages\\sklearn\\metrics\\_classification.py:1471: UndefinedMetricWarning: Precision and F-score are ill-defined and being set to 0.0 in labels with no predicted samples. Use `zero_division` parameter to control this behavior.\n",
      "  _warn_prf(average, modifier, msg_start, len(result))\n",
      "C:\\Users\\user\\AppData\\Roaming\\Python\\Python311\\site-packages\\sklearn\\metrics\\_classification.py:1471: UndefinedMetricWarning: Precision and F-score are ill-defined and being set to 0.0 in labels with no predicted samples. Use `zero_division` parameter to control this behavior.\n",
      "  _warn_prf(average, modifier, msg_start, len(result))\n",
      "C:\\Users\\user\\AppData\\Roaming\\Python\\Python311\\site-packages\\sklearn\\metrics\\_classification.py:1471: UndefinedMetricWarning: Precision and F-score are ill-defined and being set to 0.0 in labels with no predicted samples. Use `zero_division` parameter to control this behavior.\n",
      "  _warn_prf(average, modifier, msg_start, len(result))\n"
     ]
    }
   ],
   "source": [
    "from sklearn.metrics import classification_report\n",
    "\n",
    "print(classification_report(y_test, y_pred))"
   ],
   "metadata": {
    "collapsed": false,
    "ExecuteTime": {
     "end_time": "2023-12-07T16:14:31.345047800Z",
     "start_time": "2023-12-07T16:14:31.237773500Z"
    }
   },
   "id": "8b3d41dff2a0e9e"
  }
 ],
 "metadata": {
  "kernelspec": {
   "display_name": "Python 3",
   "language": "python",
   "name": "python3"
  },
  "language_info": {
   "codemirror_mode": {
    "name": "ipython",
    "version": 2
   },
   "file_extension": ".py",
   "mimetype": "text/x-python",
   "name": "python",
   "nbconvert_exporter": "python",
   "pygments_lexer": "ipython2",
   "version": "2.7.6"
  }
 },
 "nbformat": 4,
 "nbformat_minor": 5
}
