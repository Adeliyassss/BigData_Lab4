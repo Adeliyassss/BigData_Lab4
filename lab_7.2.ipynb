{
 "cells": [
  {
   "cell_type": "code",
   "execution_count": 53,
   "outputs": [],
   "source": [
    "csv_file = 'D:\\\\reviews.csv'\n",
    "reviews ={'text': [\"Absolutely love my new phone! The camera quality is outstanding, and the battery life lasts all day. A definite upgrade!\",\n",
    "\n",
    "\"Sleek design, lightning-fast processor, and a stunning display. This phone is a game-changer!\",\n",
    "\n",
    "\"The fingerprint sensor is a bit finicky, but the overall performance and features make up for it. Solid choice.\",\n",
    "\n",
    "\"Disappointed with the camera in low-light conditions. Expected better from a flagship device.\",\n",
    "\n",
    "\"Easy to navigate, user-friendly interface. Great for both tech-savvy users and beginners.\",\n",
    "\n",
    "\"Battery drains quickly when using resource-intensive apps. Needs improvement in power optimization.\",\n",
    "\n",
    "\"The AI assistant is a lifesaver. It understands natural language commands seamlessly.\",\n",
    "\n",
    "\"Too many pre-installed apps that can't be uninstalled. Annoying bloatware.\",\n",
    "\n",
    "\"Durable build quality. Accidentally dropped it, and no scratches or dents!\",\n",
    "\n",
    "\"The sound quality during calls is excellent. Crystal clear voice and minimal background noise.\",\n",
    "\n",
    "\"The phone heats up during prolonged use. Concerned about its impact on long-term performance.\",\n",
    "\n",
    "\"Impressive storage capacity. No need to worry about running out of space for photos and apps.\",\n",
    "\n",
    "\"The facial recognition feature works like a charm. Unlocks the phone in a split second.\",\n",
    "\n",
    "\"The charging speed is remarkable. Gets a significant boost in just a few minutes.\",\n",
    "\n",
    "\"The dual SIM capability is a blessing for frequent travelers. Convenient and efficient.\",\n",
    "\n",
    "\"The screen size is perfect for watching videos and playing games. Immersive experience.\",\n",
    "\n",
    "\"The software updates are timely and bring useful enhancements. Appreciate the commitment to security.\",\n",
    "\n",
    "\"Customization options are limited. Would love to have more control over the interface.\",\n",
    "\n",
    "\"Water-resistant design saved my phone from an accidental spill. Lifesaver!\",\n",
    "\n",
    "\"The gaming performance is top-notch. Handles graphics-intensive games without any lag.\",\n",
    "\n",
    "\"The selfie camera is a standout feature. Perfect for capturing high-quality self-portraits.\",\n",
    "\n",
    "\"The haptic feedback is subtle yet satisfying. Adds a premium feel to the overall experience.\",\n",
    "\n",
    "\"The included accessories are a nice touch. Appreciate the thoughtfulness in the package.\",\n",
    "\n",
    "\"Battery optimization needs improvement. Sometimes drains overnight when not in use.\",\n",
    "\n",
    "\"The 5G connectivity is a game-changer. Blazing fast internet speeds on the go.\"], \n",
    "          'rating':[5, 3, 5, 2, 1, 5, 2, 4, 1, 5, 2, 4, 1, 3, 2, 4, 2, 5, 3, 5, 1, 4, 2, 3, 5]}\n",
    "\n",
    "\n"
   ],
   "metadata": {
    "collapsed": false,
    "ExecuteTime": {
     "end_time": "2023-12-12T10:58:02.986724200Z",
     "start_time": "2023-12-12T10:58:02.974703500Z"
    }
   },
   "id": "38cc857713cfd2cd"
  },
  {
   "cell_type": "code",
   "execution_count": 54,
   "outputs": [
    {
     "name": "stdout",
     "output_type": "stream",
     "text": [
      "CSV file \"D:\\reviews.csv\" created successfully.\n"
     ]
    }
   ],
   "source": [
    "import pandas as pd\n",
    "\n",
    "df = pd.DataFrame(reviews)\n",
    "\n",
    "df.to_csv(csv_file, index=False)\n",
    "\n",
    "print(f'CSV file \"{csv_file}\" created successfully.')"
   ],
   "metadata": {
    "collapsed": false,
    "ExecuteTime": {
     "end_time": "2023-12-12T10:58:03.463469600Z",
     "start_time": "2023-12-12T10:58:03.450022Z"
    }
   },
   "id": "b7aee03d4b1a5c91"
  },
  {
   "cell_type": "code",
   "execution_count": 55,
   "outputs": [],
   "source": [
    "import numpy as np\n",
    "df['rating']=df['rating'].astype(int) #конвертируем столбец rating в int\n",
    "df=df[df['rating']!=3]  \n",
    "df['label']=np.where(df['rating']>=4,1,0) #1-Положительный,0-Отрицательный"
   ],
   "metadata": {
    "collapsed": false,
    "ExecuteTime": {
     "end_time": "2023-12-12T10:58:04.710314700Z",
     "start_time": "2023-12-12T10:58:04.691949300Z"
    }
   },
   "id": "faf5e9a2b77bf68f"
  },
  {
   "cell_type": "code",
   "execution_count": 57,
   "outputs": [
    {
     "data": {
      "text/plain": "rating\n5    7\n2    6\n1    4\n4    4\nName: count, dtype: int64"
     },
     "execution_count": 57,
     "metadata": {},
     "output_type": "execute_result"
    }
   ],
   "source": [
    "df['rating'].value_counts()  #Количество отзывов, сгруппированные по количеству звезд"
   ],
   "metadata": {
    "collapsed": false,
    "ExecuteTime": {
     "end_time": "2023-12-12T10:58:12.183594500Z",
     "start_time": "2023-12-12T10:58:12.139935100Z"
    }
   },
   "id": "b8e80e186cb095a8"
  },
  {
   "cell_type": "code",
   "execution_count": 58,
   "outputs": [],
   "source": [
    "#преобразовать все отзывы в нижний регистр\n",
    "df['pre_process'] = df['text'].apply(lambda x: \" \".join(x.lower() for x in str(x).split()))"
   ],
   "metadata": {
    "collapsed": false,
    "ExecuteTime": {
     "end_time": "2023-12-12T11:06:13.913975300Z",
     "start_time": "2023-12-12T11:06:13.875328700Z"
    }
   },
   "id": "ea2830fb7f8ea548"
  },
  {
   "cell_type": "code",
   "execution_count": 63,
   "outputs": [
    {
     "name": "stderr",
     "output_type": "stream",
     "text": [
      "[nltk_data] Downloading package punkt to\n",
      "[nltk_data]     C:\\Users\\User\\AppData\\Roaming\\nltk_data...\n",
      "[nltk_data]   Package punkt is already up-to-date!\n"
     ]
    },
    {
     "data": {
      "text/plain": "                                                 text  rating  label  \\\n0   Absolutely love my new phone! The camera quali...       5      1   \n2   The fingerprint sensor is a bit finicky, but t...       5      1   \n3   Disappointed with the camera in low-light cond...       2      0   \n4   Easy to navigate, user-friendly interface. Gre...       1      0   \n5   Battery drains quickly when using resource-int...       5      1   \n6   The AI assistant is a lifesaver. It understand...       2      0   \n7   Too many pre-installed apps that can't be unin...       4      1   \n8   Durable build quality. Accidentally dropped it...       1      0   \n9   The sound quality during calls is excellent. C...       5      1   \n10  The phone heats up during prolonged use. Conce...       2      0   \n11  Impressive storage capacity. No need to worry ...       4      1   \n12  The facial recognition feature works like a ch...       1      0   \n14  The dual SIM capability is a blessing for freq...       2      0   \n15  The screen size is perfect for watching videos...       4      1   \n16  The software updates are timely and bring usef...       2      0   \n17  Customization options are limited. Would love ...       5      1   \n19  The gaming performance is top-notch. Handles g...       5      1   \n20  The selfie camera is a standout feature. Perfe...       1      0   \n21  The haptic feedback is subtle yet satisfying. ...       4      1   \n22  The included accessories are a nice touch. App...       2      0   \n24  The 5G connectivity is a game-changer. Blazing...       5      1   \n\n                                          pre_process  \n0   absolutely love my new phone the camera qualit...  \n2   the fingerprint sensor is a bit finicky but th...  \n3   disappointed with the camera in lowlight condi...  \n4   easy to navigate userfriendly interface great ...  \n5   battery drains quickly when using resourceinte...  \n6   the ai assistant is a lifesaver it understands...  \n7   too many preinstalled apps that ca nt be unins...  \n8   durable build quality accidentally dropped it ...  \n9   the sound quality during calls is excellent cr...  \n10  the phone heats up during prolonged use concer...  \n11  impressive storage capacity no need to worry a...  \n12  the facial recognition feature works like a ch...  \n14  the dual sim capability is a blessing for freq...  \n15  the screen size is perfect for watching videos...  \n16  the software updates are timely and bring usef...  \n17  customization options are limited would love t...  \n19  the gaming performance is topnotch handles gra...  \n20  the selfie camera is a standout feature perfec...  \n21  the haptic feedback is subtle yet satisfying a...  \n22  the included accessories are a nice touch appr...  \n24  the g connectivity is a gamechanger blazing fa...  ",
      "text/html": "<div>\n<style scoped>\n    .dataframe tbody tr th:only-of-type {\n        vertical-align: middle;\n    }\n\n    .dataframe tbody tr th {\n        vertical-align: top;\n    }\n\n    .dataframe thead th {\n        text-align: right;\n    }\n</style>\n<table border=\"1\" class=\"dataframe\">\n  <thead>\n    <tr style=\"text-align: right;\">\n      <th></th>\n      <th>text</th>\n      <th>rating</th>\n      <th>label</th>\n      <th>pre_process</th>\n    </tr>\n  </thead>\n  <tbody>\n    <tr>\n      <th>0</th>\n      <td>Absolutely love my new phone! The camera quali...</td>\n      <td>5</td>\n      <td>1</td>\n      <td>absolutely love my new phone the camera qualit...</td>\n    </tr>\n    <tr>\n      <th>2</th>\n      <td>The fingerprint sensor is a bit finicky, but t...</td>\n      <td>5</td>\n      <td>1</td>\n      <td>the fingerprint sensor is a bit finicky but th...</td>\n    </tr>\n    <tr>\n      <th>3</th>\n      <td>Disappointed with the camera in low-light cond...</td>\n      <td>2</td>\n      <td>0</td>\n      <td>disappointed with the camera in lowlight condi...</td>\n    </tr>\n    <tr>\n      <th>4</th>\n      <td>Easy to navigate, user-friendly interface. Gre...</td>\n      <td>1</td>\n      <td>0</td>\n      <td>easy to navigate userfriendly interface great ...</td>\n    </tr>\n    <tr>\n      <th>5</th>\n      <td>Battery drains quickly when using resource-int...</td>\n      <td>5</td>\n      <td>1</td>\n      <td>battery drains quickly when using resourceinte...</td>\n    </tr>\n    <tr>\n      <th>6</th>\n      <td>The AI assistant is a lifesaver. It understand...</td>\n      <td>2</td>\n      <td>0</td>\n      <td>the ai assistant is a lifesaver it understands...</td>\n    </tr>\n    <tr>\n      <th>7</th>\n      <td>Too many pre-installed apps that can't be unin...</td>\n      <td>4</td>\n      <td>1</td>\n      <td>too many preinstalled apps that ca nt be unins...</td>\n    </tr>\n    <tr>\n      <th>8</th>\n      <td>Durable build quality. Accidentally dropped it...</td>\n      <td>1</td>\n      <td>0</td>\n      <td>durable build quality accidentally dropped it ...</td>\n    </tr>\n    <tr>\n      <th>9</th>\n      <td>The sound quality during calls is excellent. C...</td>\n      <td>5</td>\n      <td>1</td>\n      <td>the sound quality during calls is excellent cr...</td>\n    </tr>\n    <tr>\n      <th>10</th>\n      <td>The phone heats up during prolonged use. Conce...</td>\n      <td>2</td>\n      <td>0</td>\n      <td>the phone heats up during prolonged use concer...</td>\n    </tr>\n    <tr>\n      <th>11</th>\n      <td>Impressive storage capacity. No need to worry ...</td>\n      <td>4</td>\n      <td>1</td>\n      <td>impressive storage capacity no need to worry a...</td>\n    </tr>\n    <tr>\n      <th>12</th>\n      <td>The facial recognition feature works like a ch...</td>\n      <td>1</td>\n      <td>0</td>\n      <td>the facial recognition feature works like a ch...</td>\n    </tr>\n    <tr>\n      <th>14</th>\n      <td>The dual SIM capability is a blessing for freq...</td>\n      <td>2</td>\n      <td>0</td>\n      <td>the dual sim capability is a blessing for freq...</td>\n    </tr>\n    <tr>\n      <th>15</th>\n      <td>The screen size is perfect for watching videos...</td>\n      <td>4</td>\n      <td>1</td>\n      <td>the screen size is perfect for watching videos...</td>\n    </tr>\n    <tr>\n      <th>16</th>\n      <td>The software updates are timely and bring usef...</td>\n      <td>2</td>\n      <td>0</td>\n      <td>the software updates are timely and bring usef...</td>\n    </tr>\n    <tr>\n      <th>17</th>\n      <td>Customization options are limited. Would love ...</td>\n      <td>5</td>\n      <td>1</td>\n      <td>customization options are limited would love t...</td>\n    </tr>\n    <tr>\n      <th>19</th>\n      <td>The gaming performance is top-notch. Handles g...</td>\n      <td>5</td>\n      <td>1</td>\n      <td>the gaming performance is topnotch handles gra...</td>\n    </tr>\n    <tr>\n      <th>20</th>\n      <td>The selfie camera is a standout feature. Perfe...</td>\n      <td>1</td>\n      <td>0</td>\n      <td>the selfie camera is a standout feature perfec...</td>\n    </tr>\n    <tr>\n      <th>21</th>\n      <td>The haptic feedback is subtle yet satisfying. ...</td>\n      <td>4</td>\n      <td>1</td>\n      <td>the haptic feedback is subtle yet satisfying a...</td>\n    </tr>\n    <tr>\n      <th>22</th>\n      <td>The included accessories are a nice touch. App...</td>\n      <td>2</td>\n      <td>0</td>\n      <td>the included accessories are a nice touch appr...</td>\n    </tr>\n    <tr>\n      <th>24</th>\n      <td>The 5G connectivity is a game-changer. Blazing...</td>\n      <td>5</td>\n      <td>1</td>\n      <td>the g connectivity is a gamechanger blazing fa...</td>\n    </tr>\n  </tbody>\n</table>\n</div>"
     },
     "execution_count": 63,
     "metadata": {},
     "output_type": "execute_result"
    }
   ],
   "source": [
    "import nltk\n",
    "import re\n",
    "df['pre_process']=df['pre_process'].apply(lambda x: \" \".join([re.sub('[^A-Za-z]+','', x) for x in nltk.word_tokenize(x)]))   #Удалить небуквенные символы\n",
    "nltk.download('punkt')\n",
    "df"
   ],
   "metadata": {
    "collapsed": false,
    "ExecuteTime": {
     "end_time": "2023-12-12T11:11:53.050523700Z",
     "start_time": "2023-12-12T11:11:53.021360300Z"
    }
   },
   "id": "be94a943c9202057"
  },
  {
   "cell_type": "code",
   "execution_count": 64,
   "outputs": [],
   "source": [
    "df['pre_process']=df['pre_process'].apply(lambda x: re.sub(' +', ' ', x))"
   ],
   "metadata": {
    "collapsed": false,
    "ExecuteTime": {
     "end_time": "2023-12-12T11:13:46.432358400Z",
     "start_time": "2023-12-12T11:13:46.399952200Z"
    }
   },
   "id": "d49419fd89a50aac"
  },
  {
   "cell_type": "code",
   "execution_count": 65,
   "outputs": [],
   "source": [
    "stop_words = [\"a\",\"an\",\"and\",\"the\", \"is\",\"it\",\"for\",\"of\",\"with\",\"in\",\"on\",\"at\",\"to\",\"from\",\n",
    "\"by\",\"that\",\"this\",\"but\",\"not\",\"no\",\"can\",\"be\",\"has\",\"are\"]"
   ],
   "metadata": {
    "collapsed": false,
    "ExecuteTime": {
     "end_time": "2023-12-12T11:14:51.270266700Z",
     "start_time": "2023-12-12T11:14:51.233011600Z"
    }
   },
   "id": "a7ea8914d30c59a5"
  },
  {
   "cell_type": "code",
   "execution_count": 67,
   "outputs": [
    {
     "data": {
      "text/plain": "                                                 text  rating  label  \\\n0   Absolutely love my new phone! The camera quali...       5      1   \n2   The fingerprint sensor is a bit finicky, but t...       5      1   \n3   Disappointed with the camera in low-light cond...       2      0   \n4   Easy to navigate, user-friendly interface. Gre...       1      0   \n5   Battery drains quickly when using resource-int...       5      1   \n6   The AI assistant is a lifesaver. It understand...       2      0   \n7   Too many pre-installed apps that can't be unin...       4      1   \n8   Durable build quality. Accidentally dropped it...       1      0   \n9   The sound quality during calls is excellent. C...       5      1   \n10  The phone heats up during prolonged use. Conce...       2      0   \n11  Impressive storage capacity. No need to worry ...       4      1   \n12  The facial recognition feature works like a ch...       1      0   \n14  The dual SIM capability is a blessing for freq...       2      0   \n15  The screen size is perfect for watching videos...       4      1   \n16  The software updates are timely and bring usef...       2      0   \n17  Customization options are limited. Would love ...       5      1   \n19  The gaming performance is top-notch. Handles g...       5      1   \n20  The selfie camera is a standout feature. Perfe...       1      0   \n21  The haptic feedback is subtle yet satisfying. ...       4      1   \n22  The included accessories are a nice touch. App...       2      0   \n24  The 5G connectivity is a game-changer. Blazing...       5      1   \n\n                                          pre_process  \n0   absolutely love my new phone camera quality ou...  \n2   fingerprint sensor bit finicky overall perform...  \n3   disappointed camera lowlight conditions expect...  \n4   easy navigate userfriendly interface great bot...  \n5   battery drains quickly when using resourceinte...  \n6   ai assistant lifesaver understands natural lan...  \n7   too many preinstalled apps ca nt uninstalled a...  \n8   durable build quality accidentally dropped scr...  \n9   sound quality during calls excellent crystal c...  \n10  phone heats up during prolonged use concerned ...  \n11  impressive storage capacity need worry about r...  \n12  facial recognition feature works like charm un...  \n14  dual sim capability blessing frequent traveler...  \n15  screen size perfect watching videos playing ga...  \n16  software updates timely bring useful enhanceme...  \n17  customization options limited would love have ...  \n19  gaming performance topnotch handles graphicsin...  \n20  selfie camera standout feature perfect capturi...  \n21  haptic feedback subtle yet satisfying adds pre...  \n22  included accessories nice touch appreciate tho...  \n24  g connectivity gamechanger blazing fast intern...  ",
      "text/html": "<div>\n<style scoped>\n    .dataframe tbody tr th:only-of-type {\n        vertical-align: middle;\n    }\n\n    .dataframe tbody tr th {\n        vertical-align: top;\n    }\n\n    .dataframe thead th {\n        text-align: right;\n    }\n</style>\n<table border=\"1\" class=\"dataframe\">\n  <thead>\n    <tr style=\"text-align: right;\">\n      <th></th>\n      <th>text</th>\n      <th>rating</th>\n      <th>label</th>\n      <th>pre_process</th>\n    </tr>\n  </thead>\n  <tbody>\n    <tr>\n      <th>0</th>\n      <td>Absolutely love my new phone! The camera quali...</td>\n      <td>5</td>\n      <td>1</td>\n      <td>absolutely love my new phone camera quality ou...</td>\n    </tr>\n    <tr>\n      <th>2</th>\n      <td>The fingerprint sensor is a bit finicky, but t...</td>\n      <td>5</td>\n      <td>1</td>\n      <td>fingerprint sensor bit finicky overall perform...</td>\n    </tr>\n    <tr>\n      <th>3</th>\n      <td>Disappointed with the camera in low-light cond...</td>\n      <td>2</td>\n      <td>0</td>\n      <td>disappointed camera lowlight conditions expect...</td>\n    </tr>\n    <tr>\n      <th>4</th>\n      <td>Easy to navigate, user-friendly interface. Gre...</td>\n      <td>1</td>\n      <td>0</td>\n      <td>easy navigate userfriendly interface great bot...</td>\n    </tr>\n    <tr>\n      <th>5</th>\n      <td>Battery drains quickly when using resource-int...</td>\n      <td>5</td>\n      <td>1</td>\n      <td>battery drains quickly when using resourceinte...</td>\n    </tr>\n    <tr>\n      <th>6</th>\n      <td>The AI assistant is a lifesaver. It understand...</td>\n      <td>2</td>\n      <td>0</td>\n      <td>ai assistant lifesaver understands natural lan...</td>\n    </tr>\n    <tr>\n      <th>7</th>\n      <td>Too many pre-installed apps that can't be unin...</td>\n      <td>4</td>\n      <td>1</td>\n      <td>too many preinstalled apps ca nt uninstalled a...</td>\n    </tr>\n    <tr>\n      <th>8</th>\n      <td>Durable build quality. Accidentally dropped it...</td>\n      <td>1</td>\n      <td>0</td>\n      <td>durable build quality accidentally dropped scr...</td>\n    </tr>\n    <tr>\n      <th>9</th>\n      <td>The sound quality during calls is excellent. C...</td>\n      <td>5</td>\n      <td>1</td>\n      <td>sound quality during calls excellent crystal c...</td>\n    </tr>\n    <tr>\n      <th>10</th>\n      <td>The phone heats up during prolonged use. Conce...</td>\n      <td>2</td>\n      <td>0</td>\n      <td>phone heats up during prolonged use concerned ...</td>\n    </tr>\n    <tr>\n      <th>11</th>\n      <td>Impressive storage capacity. No need to worry ...</td>\n      <td>4</td>\n      <td>1</td>\n      <td>impressive storage capacity need worry about r...</td>\n    </tr>\n    <tr>\n      <th>12</th>\n      <td>The facial recognition feature works like a ch...</td>\n      <td>1</td>\n      <td>0</td>\n      <td>facial recognition feature works like charm un...</td>\n    </tr>\n    <tr>\n      <th>14</th>\n      <td>The dual SIM capability is a blessing for freq...</td>\n      <td>2</td>\n      <td>0</td>\n      <td>dual sim capability blessing frequent traveler...</td>\n    </tr>\n    <tr>\n      <th>15</th>\n      <td>The screen size is perfect for watching videos...</td>\n      <td>4</td>\n      <td>1</td>\n      <td>screen size perfect watching videos playing ga...</td>\n    </tr>\n    <tr>\n      <th>16</th>\n      <td>The software updates are timely and bring usef...</td>\n      <td>2</td>\n      <td>0</td>\n      <td>software updates timely bring useful enhanceme...</td>\n    </tr>\n    <tr>\n      <th>17</th>\n      <td>Customization options are limited. Would love ...</td>\n      <td>5</td>\n      <td>1</td>\n      <td>customization options limited would love have ...</td>\n    </tr>\n    <tr>\n      <th>19</th>\n      <td>The gaming performance is top-notch. Handles g...</td>\n      <td>5</td>\n      <td>1</td>\n      <td>gaming performance topnotch handles graphicsin...</td>\n    </tr>\n    <tr>\n      <th>20</th>\n      <td>The selfie camera is a standout feature. Perfe...</td>\n      <td>1</td>\n      <td>0</td>\n      <td>selfie camera standout feature perfect capturi...</td>\n    </tr>\n    <tr>\n      <th>21</th>\n      <td>The haptic feedback is subtle yet satisfying. ...</td>\n      <td>4</td>\n      <td>1</td>\n      <td>haptic feedback subtle yet satisfying adds pre...</td>\n    </tr>\n    <tr>\n      <th>22</th>\n      <td>The included accessories are a nice touch. App...</td>\n      <td>2</td>\n      <td>0</td>\n      <td>included accessories nice touch appreciate tho...</td>\n    </tr>\n    <tr>\n      <th>24</th>\n      <td>The 5G connectivity is a game-changer. Blazing...</td>\n      <td>5</td>\n      <td>1</td>\n      <td>g connectivity gamechanger blazing fast intern...</td>\n    </tr>\n  </tbody>\n</table>\n</div>"
     },
     "execution_count": 67,
     "metadata": {},
     "output_type": "execute_result"
    }
   ],
   "source": [
    "df['pre_process']=df['pre_process'].apply(lambda x: \" \".join([x for x in x.split() if x not in stop_words]))     #Удаление стоп-слов\n",
    "df"
   ],
   "metadata": {
    "collapsed": false,
    "ExecuteTime": {
     "end_time": "2023-12-12T11:16:56.759927600Z",
     "start_time": "2023-12-12T11:16:56.626440100Z"
    }
   },
   "id": "d87d5e6eba1874aa"
  },
  {
   "cell_type": "code",
   "execution_count": 68,
   "outputs": [
    {
     "name": "stdout",
     "output_type": "stream",
     "text": [
      "Train:  (15,) (15,) Test:  ((6,), (6,))\n"
     ]
    }
   ],
   "source": [
    "from sklearn.model_selection import train_test_split\n",
    "# Разделение данных на наборы для обучения и тестирования.\n",
    "X_train,X_test,Y_train, Y_test = train_test_split(df['pre_process'], df['label'], random_state=0)\n",
    "print(\"Train: \",X_train.shape,Y_train.shape,\"Test: \",(X_test.shape,Y_test.shape))"
   ],
   "metadata": {
    "collapsed": false,
    "ExecuteTime": {
     "end_time": "2023-12-12T11:21:48.618366700Z",
     "start_time": "2023-12-12T11:21:48.579805800Z"
    }
   },
   "id": "68c1d53f31427ce1"
  },
  {
   "cell_type": "code",
   "execution_count": 72,
   "outputs": [
    {
     "name": "stdout",
     "output_type": "stream",
     "text": [
      "TFIDF Vectorizer……\n"
     ]
    },
    {
     "data": {
      "text/plain": "(<15x131 sparse matrix of type '<class 'numpy.float64'>'\n \twith 141 stored elements in Compressed Sparse Row format>,\n <6x131 sparse matrix of type '<class 'numpy.float64'>'\n \twith 12 stored elements in Compressed Sparse Row format>)"
     },
     "execution_count": 72,
     "metadata": {},
     "output_type": "execute_result"
    }
   ],
   "source": [
    "print(\"TFIDF Vectorizer……\")   #Использование векторизатора TF*IDF\n",
    "from sklearn.feature_extraction.text import TfidfVectorizer\n",
    "vectorizer = TfidfVectorizer()\n",
    "tf_x_train = vectorizer.fit_transform(X_train)\n",
    "tf_x_test = vectorizer.transform(X_test)\n",
    "tf_x_train, tf_x_test"
   ],
   "metadata": {
    "collapsed": false,
    "ExecuteTime": {
     "end_time": "2023-12-12T11:24:43.461568Z",
     "start_time": "2023-12-12T11:24:43.426681500Z"
    }
   },
   "id": "d2ccc42246e34728"
  },
  {
   "cell_type": "code",
   "execution_count": 73,
   "outputs": [],
   "source": [
    "from sklearn.svm import LinearSVC   #Реализация SVM со sklearn для классификации\n",
    "clf = LinearSVC(random_state=0)"
   ],
   "metadata": {
    "collapsed": false,
    "ExecuteTime": {
     "end_time": "2023-12-12T11:28:09.684627600Z",
     "start_time": "2023-12-12T11:28:09.659422400Z"
    }
   },
   "id": "e52d49f15ee74c58"
  },
  {
   "cell_type": "code",
   "execution_count": 74,
   "outputs": [
    {
     "name": "stderr",
     "output_type": "stream",
     "text": [
      "C:\\Program Files\\Python311\\Lib\\site-packages\\sklearn\\svm\\_classes.py:32: FutureWarning: The default value of `dual` will change from `True` to `'auto'` in 1.5. Set the value of `dual` explicitly to suppress the warning.\n",
      "  warnings.warn(\n"
     ]
    },
    {
     "data": {
      "text/plain": "LinearSVC(random_state=0)",
      "text/html": "<style>#sk-container-id-1 {color: black;}#sk-container-id-1 pre{padding: 0;}#sk-container-id-1 div.sk-toggleable {background-color: white;}#sk-container-id-1 label.sk-toggleable__label {cursor: pointer;display: block;width: 100%;margin-bottom: 0;padding: 0.3em;box-sizing: border-box;text-align: center;}#sk-container-id-1 label.sk-toggleable__label-arrow:before {content: \"▸\";float: left;margin-right: 0.25em;color: #696969;}#sk-container-id-1 label.sk-toggleable__label-arrow:hover:before {color: black;}#sk-container-id-1 div.sk-estimator:hover label.sk-toggleable__label-arrow:before {color: black;}#sk-container-id-1 div.sk-toggleable__content {max-height: 0;max-width: 0;overflow: hidden;text-align: left;background-color: #f0f8ff;}#sk-container-id-1 div.sk-toggleable__content pre {margin: 0.2em;color: black;border-radius: 0.25em;background-color: #f0f8ff;}#sk-container-id-1 input.sk-toggleable__control:checked~div.sk-toggleable__content {max-height: 200px;max-width: 100%;overflow: auto;}#sk-container-id-1 input.sk-toggleable__control:checked~label.sk-toggleable__label-arrow:before {content: \"▾\";}#sk-container-id-1 div.sk-estimator input.sk-toggleable__control:checked~label.sk-toggleable__label {background-color: #d4ebff;}#sk-container-id-1 div.sk-label input.sk-toggleable__control:checked~label.sk-toggleable__label {background-color: #d4ebff;}#sk-container-id-1 input.sk-hidden--visually {border: 0;clip: rect(1px 1px 1px 1px);clip: rect(1px, 1px, 1px, 1px);height: 1px;margin: -1px;overflow: hidden;padding: 0;position: absolute;width: 1px;}#sk-container-id-1 div.sk-estimator {font-family: monospace;background-color: #f0f8ff;border: 1px dotted black;border-radius: 0.25em;box-sizing: border-box;margin-bottom: 0.5em;}#sk-container-id-1 div.sk-estimator:hover {background-color: #d4ebff;}#sk-container-id-1 div.sk-parallel-item::after {content: \"\";width: 100%;border-bottom: 1px solid gray;flex-grow: 1;}#sk-container-id-1 div.sk-label:hover label.sk-toggleable__label {background-color: #d4ebff;}#sk-container-id-1 div.sk-serial::before {content: \"\";position: absolute;border-left: 1px solid gray;box-sizing: border-box;top: 0;bottom: 0;left: 50%;z-index: 0;}#sk-container-id-1 div.sk-serial {display: flex;flex-direction: column;align-items: center;background-color: white;padding-right: 0.2em;padding-left: 0.2em;position: relative;}#sk-container-id-1 div.sk-item {position: relative;z-index: 1;}#sk-container-id-1 div.sk-parallel {display: flex;align-items: stretch;justify-content: center;background-color: white;position: relative;}#sk-container-id-1 div.sk-item::before, #sk-container-id-1 div.sk-parallel-item::before {content: \"\";position: absolute;border-left: 1px solid gray;box-sizing: border-box;top: 0;bottom: 0;left: 50%;z-index: -1;}#sk-container-id-1 div.sk-parallel-item {display: flex;flex-direction: column;z-index: 1;position: relative;background-color: white;}#sk-container-id-1 div.sk-parallel-item:first-child::after {align-self: flex-end;width: 50%;}#sk-container-id-1 div.sk-parallel-item:last-child::after {align-self: flex-start;width: 50%;}#sk-container-id-1 div.sk-parallel-item:only-child::after {width: 0;}#sk-container-id-1 div.sk-dashed-wrapped {border: 1px dashed gray;margin: 0 0.4em 0.5em 0.4em;box-sizing: border-box;padding-bottom: 0.4em;background-color: white;}#sk-container-id-1 div.sk-label label {font-family: monospace;font-weight: bold;display: inline-block;line-height: 1.2em;}#sk-container-id-1 div.sk-label-container {text-align: center;}#sk-container-id-1 div.sk-container {/* jupyter's `normalize.less` sets `[hidden] { display: none; }` but bootstrap.min.css set `[hidden] { display: none !important; }` so we also need the `!important` here to be able to override the default hidden behavior on the sphinx rendered scikit-learn.org. See: https://github.com/scikit-learn/scikit-learn/issues/21755 */display: inline-block !important;position: relative;}#sk-container-id-1 div.sk-text-repr-fallback {display: none;}</style><div id=\"sk-container-id-1\" class=\"sk-top-container\"><div class=\"sk-text-repr-fallback\"><pre>LinearSVC(random_state=0)</pre><b>In a Jupyter environment, please rerun this cell to show the HTML representation or trust the notebook. <br />On GitHub, the HTML representation is unable to render, please try loading this page with nbviewer.org.</b></div><div class=\"sk-container\" hidden><div class=\"sk-item\"><div class=\"sk-estimator sk-toggleable\"><input class=\"sk-toggleable__control sk-hidden--visually\" id=\"sk-estimator-id-1\" type=\"checkbox\" checked><label for=\"sk-estimator-id-1\" class=\"sk-toggleable__label sk-toggleable__label-arrow\">LinearSVC</label><div class=\"sk-toggleable__content\"><pre>LinearSVC(random_state=0)</pre></div></div></div></div></div>"
     },
     "execution_count": 74,
     "metadata": {},
     "output_type": "execute_result"
    }
   ],
   "source": [
    "clf.fit(tf_x_train,Y_train)   # Установка данных обучения в модель"
   ],
   "metadata": {
    "collapsed": false,
    "ExecuteTime": {
     "end_time": "2023-12-12T11:28:20.348003500Z",
     "start_time": "2023-12-12T11:28:20.301225400Z"
    }
   },
   "id": "b64d4aaabc07e38f"
  },
  {
   "cell_type": "code",
   "execution_count": 75,
   "outputs": [],
   "source": [
    "y_test_pred=clf.predict(tf_x_test) # Прогнозирование тестовых данных"
   ],
   "metadata": {
    "collapsed": false,
    "ExecuteTime": {
     "end_time": "2023-12-12T11:28:36.100942Z",
     "start_time": "2023-12-12T11:28:36.073491700Z"
    }
   },
   "id": "944659a40905823a"
  },
  {
   "cell_type": "code",
   "execution_count": 76,
   "outputs": [
    {
     "name": "stderr",
     "output_type": "stream",
     "text": [
      "C:\\Program Files\\Python311\\Lib\\site-packages\\sklearn\\metrics\\_classification.py:1469: UndefinedMetricWarning: Precision and F-score are ill-defined and being set to 0.0 in labels with no predicted samples. Use `zero_division` parameter to control this behavior.\n",
      "  _warn_prf(average, modifier, msg_start, len(result))\n",
      "C:\\Program Files\\Python311\\Lib\\site-packages\\sklearn\\metrics\\_classification.py:1469: UndefinedMetricWarning: Precision and F-score are ill-defined and being set to 0.0 in labels with no predicted samples. Use `zero_division` parameter to control this behavior.\n",
      "  _warn_prf(average, modifier, msg_start, len(result))\n",
      "C:\\Program Files\\Python311\\Lib\\site-packages\\sklearn\\metrics\\_classification.py:1469: UndefinedMetricWarning: Precision and F-score are ill-defined and being set to 0.0 in labels with no predicted samples. Use `zero_division` parameter to control this behavior.\n",
      "  _warn_prf(average, modifier, msg_start, len(result))\n"
     ]
    }
   ],
   "source": [
    "from sklearn.metrics import classification_report\n",
    "report=classification_report(Y_test, y_test_pred,output_dict=True)   # Анализ результатов\n"
   ],
   "metadata": {
    "collapsed": false,
    "ExecuteTime": {
     "end_time": "2023-12-12T11:28:46.711399200Z",
     "start_time": "2023-12-12T11:28:46.659731900Z"
    }
   },
   "id": "d853954413d70ac9"
  },
  {
   "cell_type": "code",
   "execution_count": 77,
   "outputs": [],
   "source": [
    "from sklearn.linear_model import LogisticRegression\n",
    "clf = LogisticRegression(max_iter=1000,solver='saga')"
   ],
   "metadata": {
    "collapsed": false,
    "ExecuteTime": {
     "end_time": "2023-12-12T11:31:20.043704900Z",
     "start_time": "2023-12-12T11:31:20.005485300Z"
    }
   },
   "id": "9a65920337c37a88"
  },
  {
   "cell_type": "code",
   "execution_count": 78,
   "outputs": [
    {
     "data": {
      "text/plain": "LogisticRegression(max_iter=1000, solver='saga')",
      "text/html": "<style>#sk-container-id-2 {color: black;}#sk-container-id-2 pre{padding: 0;}#sk-container-id-2 div.sk-toggleable {background-color: white;}#sk-container-id-2 label.sk-toggleable__label {cursor: pointer;display: block;width: 100%;margin-bottom: 0;padding: 0.3em;box-sizing: border-box;text-align: center;}#sk-container-id-2 label.sk-toggleable__label-arrow:before {content: \"▸\";float: left;margin-right: 0.25em;color: #696969;}#sk-container-id-2 label.sk-toggleable__label-arrow:hover:before {color: black;}#sk-container-id-2 div.sk-estimator:hover label.sk-toggleable__label-arrow:before {color: black;}#sk-container-id-2 div.sk-toggleable__content {max-height: 0;max-width: 0;overflow: hidden;text-align: left;background-color: #f0f8ff;}#sk-container-id-2 div.sk-toggleable__content pre {margin: 0.2em;color: black;border-radius: 0.25em;background-color: #f0f8ff;}#sk-container-id-2 input.sk-toggleable__control:checked~div.sk-toggleable__content {max-height: 200px;max-width: 100%;overflow: auto;}#sk-container-id-2 input.sk-toggleable__control:checked~label.sk-toggleable__label-arrow:before {content: \"▾\";}#sk-container-id-2 div.sk-estimator input.sk-toggleable__control:checked~label.sk-toggleable__label {background-color: #d4ebff;}#sk-container-id-2 div.sk-label input.sk-toggleable__control:checked~label.sk-toggleable__label {background-color: #d4ebff;}#sk-container-id-2 input.sk-hidden--visually {border: 0;clip: rect(1px 1px 1px 1px);clip: rect(1px, 1px, 1px, 1px);height: 1px;margin: -1px;overflow: hidden;padding: 0;position: absolute;width: 1px;}#sk-container-id-2 div.sk-estimator {font-family: monospace;background-color: #f0f8ff;border: 1px dotted black;border-radius: 0.25em;box-sizing: border-box;margin-bottom: 0.5em;}#sk-container-id-2 div.sk-estimator:hover {background-color: #d4ebff;}#sk-container-id-2 div.sk-parallel-item::after {content: \"\";width: 100%;border-bottom: 1px solid gray;flex-grow: 1;}#sk-container-id-2 div.sk-label:hover label.sk-toggleable__label {background-color: #d4ebff;}#sk-container-id-2 div.sk-serial::before {content: \"\";position: absolute;border-left: 1px solid gray;box-sizing: border-box;top: 0;bottom: 0;left: 50%;z-index: 0;}#sk-container-id-2 div.sk-serial {display: flex;flex-direction: column;align-items: center;background-color: white;padding-right: 0.2em;padding-left: 0.2em;position: relative;}#sk-container-id-2 div.sk-item {position: relative;z-index: 1;}#sk-container-id-2 div.sk-parallel {display: flex;align-items: stretch;justify-content: center;background-color: white;position: relative;}#sk-container-id-2 div.sk-item::before, #sk-container-id-2 div.sk-parallel-item::before {content: \"\";position: absolute;border-left: 1px solid gray;box-sizing: border-box;top: 0;bottom: 0;left: 50%;z-index: -1;}#sk-container-id-2 div.sk-parallel-item {display: flex;flex-direction: column;z-index: 1;position: relative;background-color: white;}#sk-container-id-2 div.sk-parallel-item:first-child::after {align-self: flex-end;width: 50%;}#sk-container-id-2 div.sk-parallel-item:last-child::after {align-self: flex-start;width: 50%;}#sk-container-id-2 div.sk-parallel-item:only-child::after {width: 0;}#sk-container-id-2 div.sk-dashed-wrapped {border: 1px dashed gray;margin: 0 0.4em 0.5em 0.4em;box-sizing: border-box;padding-bottom: 0.4em;background-color: white;}#sk-container-id-2 div.sk-label label {font-family: monospace;font-weight: bold;display: inline-block;line-height: 1.2em;}#sk-container-id-2 div.sk-label-container {text-align: center;}#sk-container-id-2 div.sk-container {/* jupyter's `normalize.less` sets `[hidden] { display: none; }` but bootstrap.min.css set `[hidden] { display: none !important; }` so we also need the `!important` here to be able to override the default hidden behavior on the sphinx rendered scikit-learn.org. See: https://github.com/scikit-learn/scikit-learn/issues/21755 */display: inline-block !important;position: relative;}#sk-container-id-2 div.sk-text-repr-fallback {display: none;}</style><div id=\"sk-container-id-2\" class=\"sk-top-container\"><div class=\"sk-text-repr-fallback\"><pre>LogisticRegression(max_iter=1000, solver=&#x27;saga&#x27;)</pre><b>In a Jupyter environment, please rerun this cell to show the HTML representation or trust the notebook. <br />On GitHub, the HTML representation is unable to render, please try loading this page with nbviewer.org.</b></div><div class=\"sk-container\" hidden><div class=\"sk-item\"><div class=\"sk-estimator sk-toggleable\"><input class=\"sk-toggleable__control sk-hidden--visually\" id=\"sk-estimator-id-2\" type=\"checkbox\" checked><label for=\"sk-estimator-id-2\" class=\"sk-toggleable__label sk-toggleable__label-arrow\">LogisticRegression</label><div class=\"sk-toggleable__content\"><pre>LogisticRegression(max_iter=1000, solver=&#x27;saga&#x27;)</pre></div></div></div></div></div>"
     },
     "execution_count": 78,
     "metadata": {},
     "output_type": "execute_result"
    }
   ],
   "source": [
    "clf.fit(tf_x_train,Y_train)"
   ],
   "metadata": {
    "collapsed": false,
    "ExecuteTime": {
     "end_time": "2023-12-12T11:31:28.050788400Z",
     "start_time": "2023-12-12T11:31:27.972049600Z"
    }
   },
   "id": "c0a8a41224c7b563"
  },
  {
   "cell_type": "code",
   "execution_count": 79,
   "outputs": [],
   "source": [
    "y_test_pred=clf.predict(tf_x_test)"
   ],
   "metadata": {
    "collapsed": false,
    "ExecuteTime": {
     "end_time": "2023-12-12T11:31:35.583770800Z",
     "start_time": "2023-12-12T11:31:35.505835Z"
    }
   },
   "id": "72e8b31c5ae20dd2"
  },
  {
   "cell_type": "code",
   "execution_count": 80,
   "outputs": [
    {
     "name": "stderr",
     "output_type": "stream",
     "text": [
      "C:\\Program Files\\Python311\\Lib\\site-packages\\sklearn\\metrics\\_classification.py:1469: UndefinedMetricWarning: Precision and F-score are ill-defined and being set to 0.0 in labels with no predicted samples. Use `zero_division` parameter to control this behavior.\n",
      "  _warn_prf(average, modifier, msg_start, len(result))\n",
      "C:\\Program Files\\Python311\\Lib\\site-packages\\sklearn\\metrics\\_classification.py:1469: UndefinedMetricWarning: Precision and F-score are ill-defined and being set to 0.0 in labels with no predicted samples. Use `zero_division` parameter to control this behavior.\n",
      "  _warn_prf(average, modifier, msg_start, len(result))\n",
      "C:\\Program Files\\Python311\\Lib\\site-packages\\sklearn\\metrics\\_classification.py:1469: UndefinedMetricWarning: Precision and F-score are ill-defined and being set to 0.0 in labels with no predicted samples. Use `zero_division` parameter to control this behavior.\n",
      "  _warn_prf(average, modifier, msg_start, len(result))\n"
     ]
    }
   ],
   "source": [
    "from sklearn.metrics import classification_report\n",
    "report=classification_report(Y_test, y_test_pred,output_dict=True)"
   ],
   "metadata": {
    "collapsed": false,
    "ExecuteTime": {
     "end_time": "2023-12-12T11:31:43.610649300Z",
     "start_time": "2023-12-12T11:31:43.557706200Z"
    }
   },
   "id": "cbecff960b643bbb"
  },
  {
   "cell_type": "code",
   "execution_count": 86,
   "outputs": [
    {
     "name": "stderr",
     "output_type": "stream",
     "text": [
      "C:\\Program Files\\Python311\\Lib\\site-packages\\sklearn\\metrics\\_classification.py:1469: UndefinedMetricWarning: Precision and F-score are ill-defined and being set to 0.0 in labels with no predicted samples. Use `zero_division` parameter to control this behavior.\n",
      "  _warn_prf(average, modifier, msg_start, len(result))\n",
      "C:\\Program Files\\Python311\\Lib\\site-packages\\sklearn\\metrics\\_classification.py:1469: UndefinedMetricWarning: Precision and F-score are ill-defined and being set to 0.0 in labels with no predicted samples. Use `zero_division` parameter to control this behavior.\n",
      "  _warn_prf(average, modifier, msg_start, len(result))\n",
      "C:\\Program Files\\Python311\\Lib\\site-packages\\sklearn\\metrics\\_classification.py:1469: UndefinedMetricWarning: Precision and F-score are ill-defined and being set to 0.0 in labels with no predicted samples. Use `zero_division` parameter to control this behavior.\n",
      "  _warn_prf(average, modifier, msg_start, len(result))\n"
     ]
    },
    {
     "data": {
      "text/plain": "{'0': {'precision': 0.16666666666666666,\n  'recall': 1.0,\n  'f1-score': 0.2857142857142857,\n  'support': 1.0},\n '1': {'precision': 0.0, 'recall': 0.0, 'f1-score': 0.0, 'support': 5.0},\n 'accuracy': 0.16666666666666666,\n 'macro avg': {'precision': 0.08333333333333333,\n  'recall': 0.5,\n  'f1-score': 0.14285714285714285,\n  'support': 6.0},\n 'weighted avg': {'precision': 0.027777777777777776,\n  'recall': 0.16666666666666666,\n  'f1-score': 0.047619047619047616,\n  'support': 6.0}}"
     },
     "execution_count": 86,
     "metadata": {},
     "output_type": "execute_result"
    }
   ],
   "source": [
    "from sklearn.linear_model import LogisticRegression\n",
    "from sklearn.metrics import classification_report\n",
    "\n",
    "lr = LogisticRegression(solver='saga', max_iter=1000)\n",
    "lr.fit(tf_x_train, Y_train)\n",
    "\n",
    "y_pred = lr.predict(tf_x_test)\n",
    "\n",
    "report = classification_report(Y_test, y_pred, output_dict=True)\n",
    "report"
   ],
   "metadata": {
    "collapsed": false,
    "ExecuteTime": {
     "end_time": "2023-12-12T11:49:40.610098900Z",
     "start_time": "2023-12-12T11:49:40.525749700Z"
    }
   },
   "id": "b2336a517f0e8fe9"
  },
  {
   "cell_type": "code",
   "execution_count": null,
   "outputs": [],
   "source": [],
   "metadata": {
    "collapsed": false
   },
   "id": "8b86ddedba7eb91f"
  }
 ],
 "metadata": {
  "kernelspec": {
   "display_name": "Python 3",
   "language": "python",
   "name": "python3"
  },
  "language_info": {
   "codemirror_mode": {
    "name": "ipython",
    "version": 2
   },
   "file_extension": ".py",
   "mimetype": "text/x-python",
   "name": "python",
   "nbconvert_exporter": "python",
   "pygments_lexer": "ipython2",
   "version": "2.7.6"
  }
 },
 "nbformat": 4,
 "nbformat_minor": 5
}
