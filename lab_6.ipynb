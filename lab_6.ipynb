{
 "cells": [
  {
   "cell_type": "markdown",
   "source": [
    "## Перекрестная проверка"
   ],
   "metadata": {
    "collapsed": false
   },
   "id": "cc5d652b1235687b"
  },
  {
   "cell_type": "code",
   "execution_count": 12,
   "outputs": [
    {
     "name": "stdout",
     "output_type": "stream",
     "text": [
      "Cross-validation scores: [0.98245614 0.98245614 0.97368421 0.97368421 0.99115044]\n",
      "Average accuracy of cross-checking: 0.98\n"
     ]
    }
   ],
   "source": [
    "from sklearn.model_selection import cross_val_score\n",
    "from sklearn.datasets import load_breast_cancer\n",
    "from sklearn.linear_model import LogisticRegression\n",
    "from sklearn.preprocessing import StandardScaler\n",
    "from sklearn.pipeline import make_pipeline\n",
    "\n",
    "breast_cancer = load_breast_cancer()\n",
    "X = breast_cancer.data\n",
    "y = breast_cancer.target\n",
    "\n",
    "# Создание модели LogisticRegression с масштабированием данных\n",
    "logreg = make_pipeline(StandardScaler(), LogisticRegression(max_iter=1000))\n",
    "scores = cross_val_score(logreg, X, y, cv=5)\n",
    "\n",
    "print(\"Cross-validation scores: {}\".format(scores))\n",
    "print(\"Average accuracy of cross-checking: {:.2f}\".format(scores.mean()))"
   ],
   "metadata": {
    "collapsed": false,
    "ExecuteTime": {
     "end_time": "2023-12-07T10:25:52.663339700Z",
     "start_time": "2023-12-07T10:25:52.519345900Z"
    }
   },
   "id": "c71c7056cc8d81ac"
  },
  {
   "cell_type": "code",
   "execution_count": 13,
   "outputs": [
    {
     "data": {
      "text/plain": "{'fit_time': array([0.02138519, 0.0234313 , 0.0159986 , 0.01950502, 0.01823592]),\n 'score_time': array([0.00300074, 0.00199604, 0.00200033, 0.00099993, 0.00199294]),\n 'test_score': array([0.98245614, 0.98245614, 0.97368421, 0.97368421, 0.99115044]),\n 'train_score': array([0.99120879, 0.98901099, 0.98901099, 0.99120879, 0.98684211])}"
     },
     "metadata": {},
     "output_type": "display_data"
    }
   ],
   "source": [
    "from sklearn.model_selection import cross_validate\n",
    "\n",
    "res = cross_validate(logreg, breast_cancer.data, breast_cancer.target, cv=5, return_train_score=True)\n",
    "display(res)"
   ],
   "metadata": {
    "collapsed": false,
    "ExecuteTime": {
     "end_time": "2023-12-07T10:34:20.729372300Z",
     "start_time": "2023-12-07T10:34:20.457076600Z"
    }
   },
   "id": "afb043b87aa8ce7b"
  },
  {
   "cell_type": "code",
   "execution_count": 15,
   "outputs": [
    {
     "data": {
      "text/plain": "   fit_time  score_time  test_score  train_score\n0  0.021385    0.003001    0.982456     0.991209\n1  0.023431    0.001996    0.982456     0.989011\n2  0.015999    0.002000    0.973684     0.989011\n3  0.019505    0.001000    0.973684     0.991209\n4  0.018236    0.001993    0.991150     0.986842",
      "text/html": "<div>\n<style scoped>\n    .dataframe tbody tr th:only-of-type {\n        vertical-align: middle;\n    }\n\n    .dataframe tbody tr th {\n        vertical-align: top;\n    }\n\n    .dataframe thead th {\n        text-align: right;\n    }\n</style>\n<table border=\"1\" class=\"dataframe\">\n  <thead>\n    <tr style=\"text-align: right;\">\n      <th></th>\n      <th>fit_time</th>\n      <th>score_time</th>\n      <th>test_score</th>\n      <th>train_score</th>\n    </tr>\n  </thead>\n  <tbody>\n    <tr>\n      <th>0</th>\n      <td>0.021385</td>\n      <td>0.003001</td>\n      <td>0.982456</td>\n      <td>0.991209</td>\n    </tr>\n    <tr>\n      <th>1</th>\n      <td>0.023431</td>\n      <td>0.001996</td>\n      <td>0.982456</td>\n      <td>0.989011</td>\n    </tr>\n    <tr>\n      <th>2</th>\n      <td>0.015999</td>\n      <td>0.002000</td>\n      <td>0.973684</td>\n      <td>0.989011</td>\n    </tr>\n    <tr>\n      <th>3</th>\n      <td>0.019505</td>\n      <td>0.001000</td>\n      <td>0.973684</td>\n      <td>0.991209</td>\n    </tr>\n    <tr>\n      <th>4</th>\n      <td>0.018236</td>\n      <td>0.001993</td>\n      <td>0.991150</td>\n      <td>0.986842</td>\n    </tr>\n  </tbody>\n</table>\n</div>"
     },
     "metadata": {},
     "output_type": "display_data"
    },
    {
     "name": "stdout",
     "output_type": "stream",
     "text": [
      "mean time and score:\n",
      " fit_time       0.019711\n",
      "score_time     0.001998\n",
      "test_score     0.980686\n",
      "train_score    0.989456\n",
      "dtype: float64\n"
     ]
    }
   ],
   "source": [
    "import pandas as pd\n",
    "\n",
    "res_df = pd.DataFrame(res)\n",
    "display(res_df)\n",
    "print('Mean times and scores:\\n', res_df.mean())"
   ],
   "metadata": {
    "collapsed": false,
    "ExecuteTime": {
     "end_time": "2023-12-07T10:35:42.066202500Z",
     "start_time": "2023-12-07T10:35:41.979960600Z"
    }
   },
   "id": "1db4412c49016db1"
  },
  {
   "cell_type": "code",
   "execution_count": 16,
   "outputs": [
    {
     "name": "stdout",
     "output_type": "stream",
     "text": [
      "breast_cancer targets: [0 0 0 0 0 0 0 0 0 0 0 0 0 0 0 0 0 0 0 1 1 1 0 0 0 0 0 0 0 0 0 0 0 0 0 0 0\n",
      " 1 0 0 0 0 0 0 0 0 1 0 1 1 1 1 1 0 0 1 0 0 1 1 1 1 0 1 0 0 1 1 1 1 0 1 0 0\n",
      " 1 0 1 0 0 1 1 1 0 0 1 0 0 0 1 1 1 0 1 1 0 0 1 1 1 0 0 1 1 1 1 0 1 1 0 1 1\n",
      " 1 1 1 1 1 1 0 0 0 1 0 0 1 1 1 0 0 1 0 1 0 0 1 0 0 1 1 0 1 1 0 1 1 1 1 0 1\n",
      " 1 1 1 1 1 1 1 1 0 1 1 1 1 0 0 1 0 1 1 0 0 1 1 0 0 1 1 1 1 0 1 1 0 0 0 1 0\n",
      " 1 0 1 1 1 0 1 1 0 0 1 0 0 0 0 1 0 0 0 1 0 1 0 1 1 0 1 0 0 0 0 1 1 0 0 1 1\n",
      " 1 0 1 1 1 1 1 0 0 1 1 0 1 1 0 0 1 0 1 1 1 1 0 1 1 1 1 1 0 1 0 0 0 0 0 0 0\n",
      " 0 0 0 0 0 0 0 1 1 1 1 1 1 0 1 0 1 1 0 1 1 0 1 0 0 1 1 1 1 1 1 1 1 1 1 1 1\n",
      " 1 0 1 1 0 1 0 1 1 1 1 1 1 1 1 1 1 1 1 1 1 0 1 1 1 0 1 0 1 1 1 1 0 0 0 1 1\n",
      " 1 1 0 1 0 1 0 1 1 1 0 1 1 1 1 1 1 1 0 0 0 1 1 1 1 1 1 1 1 1 1 1 0 0 1 0 0\n",
      " 0 1 0 0 1 1 1 1 1 0 1 1 1 1 1 0 1 1 1 0 1 1 0 0 1 1 1 1 1 1 0 1 1 1 1 1 1\n",
      " 1 0 1 1 1 1 1 0 1 1 0 1 1 1 1 1 1 1 1 1 1 1 1 0 1 0 0 1 0 1 1 1 1 1 0 1 1\n",
      " 0 1 0 1 1 0 1 0 1 1 1 1 1 1 1 1 0 0 1 1 1 1 1 1 0 1 1 1 1 1 1 1 1 1 1 0 1\n",
      " 1 1 1 1 1 1 0 1 0 1 1 0 1 1 1 1 1 0 0 1 0 1 0 1 1 1 1 1 0 1 1 0 1 0 1 0 0\n",
      " 1 1 1 0 1 1 1 1 1 1 1 1 1 1 1 0 1 0 0 1 1 1 1 1 1 1 1 1 1 1 1 1 1 1 1 1 1\n",
      " 1 1 1 1 1 1 1 0 0 0 0 0 0 1]\n"
     ]
    }
   ],
   "source": [
    "print('breast_cancer targets: {}'.format(y))"
   ],
   "metadata": {
    "collapsed": false,
    "ExecuteTime": {
     "end_time": "2023-12-07T13:06:26.244300400Z",
     "start_time": "2023-12-07T13:06:26.201476100Z"
    }
   },
   "id": "1867dbb6a973d48e"
  },
  {
   "cell_type": "code",
   "execution_count": 18,
   "outputs": [
    {
     "name": "stdout",
     "output_type": "stream",
     "text": [
      "Accuracy value of cross-validation:\n",
      "[0.97368421 0.95614035 0.98245614 0.98245614 0.99115044]\n"
     ]
    }
   ],
   "source": [
    "from sklearn.model_selection import KFold\n",
    "\n",
    "kfold = KFold(n_splits=5)\n",
    "print(\"Accuracy value of cross-validation:\\n{}\".format(\n",
    "    cross_val_score(logreg, breast_cancer.data, breast_cancer.target, cv=kfold)))"
   ],
   "metadata": {
    "collapsed": false,
    "ExecuteTime": {
     "end_time": "2023-12-07T13:12:00.946187600Z",
     "start_time": "2023-12-07T13:12:00.780352800Z"
    }
   },
   "id": "22e47f1ef019a44f"
  },
  {
   "cell_type": "code",
   "execution_count": 19,
   "outputs": [
    {
     "name": "stdout",
     "output_type": "stream",
     "text": [
      "Accuracy value of cross-validation:\n",
      "[0.95789474 0.97894737 0.97354497]\n"
     ]
    }
   ],
   "source": [
    "kfold = KFold(n_splits=3)\n",
    "print(\"Accuracy value of cross-validation:\\n{}\".format(\n",
    "    cross_val_score(logreg, breast_cancer.data, breast_cancer.target, cv=kfold)))"
   ],
   "metadata": {
    "collapsed": false,
    "ExecuteTime": {
     "end_time": "2023-12-07T13:12:05.327133200Z",
     "start_time": "2023-12-07T13:12:05.198492100Z"
    }
   },
   "id": "5b340c4e6f6e0715"
  },
  {
   "cell_type": "code",
   "execution_count": 22,
   "outputs": [
    {
     "name": "stdout",
     "output_type": "stream",
     "text": [
      "Accuracy value of cross-validation:\n",
      "[0.97894737 0.95789474 0.98941799]\n"
     ]
    }
   ],
   "source": [
    "kfold = KFold(n_splits=3, shuffle=True, random_state=0)\n",
    "print(\"Accuracy value of cross-validation:\\n{}\".format(\n",
    "    cross_val_score(logreg, breast_cancer.data, breast_cancer.target, cv=kfold)))"
   ],
   "metadata": {
    "collapsed": false,
    "ExecuteTime": {
     "end_time": "2023-12-07T13:15:34.621536500Z",
     "start_time": "2023-12-07T13:15:34.511605500Z"
    }
   },
   "id": "4e89e64dea7eb042"
  },
  {
   "cell_type": "code",
   "execution_count": 33,
   "outputs": [
    {
     "name": "stdout",
     "output_type": "stream",
     "text": [
      "Number of iterations: 569\n",
      "Average correctness of the model: 0.9789103690685413\n"
     ]
    }
   ],
   "source": [
    "from sklearn.model_selection import LeaveOneOut, cross_val_score\n",
    "\n",
    "loo = LeaveOneOut()\n",
    "scores = cross_val_score(logreg, X, y, cv=loo)\n",
    "\n",
    "print(\"Number of iterations:\", loo.get_n_splits(X))\n",
    "print(\"Average correctness of the model:\", scores.mean())\n"
   ],
   "metadata": {
    "collapsed": false,
    "ExecuteTime": {
     "end_time": "2023-12-07T14:10:50.707093700Z",
     "start_time": "2023-12-07T14:10:39.340571400Z"
    }
   },
   "id": "5456b2593c4ac8fe"
  },
  {
   "cell_type": "code",
   "execution_count": 24,
   "outputs": [
    {
     "name": "stdout",
     "output_type": "stream",
     "text": [
      "Accuracy values of shuffle-split cross-validation:\n",
      "[0.95438596 0.97192982 0.98947368 0.96842105 0.9754386  0.94736842\n",
      " 0.96491228 0.98245614 0.96491228 0.9754386 ]\n"
     ]
    }
   ],
   "source": [
    "from sklearn.model_selection import ShuffleSplit\n",
    "\n",
    "shuffle_split = ShuffleSplit(test_size=.5, train_size=.5, n_splits=10)\n",
    "shuffle_scores = cross_val_score(logreg, X, y, cv=shuffle_split)\n",
    "\n",
    "print(\"Accuracy values of shuffle-split cross-validation:\\n{}\".format(shuffle_scores))"
   ],
   "metadata": {
    "collapsed": false,
    "ExecuteTime": {
     "end_time": "2023-12-07T13:26:32.969607800Z",
     "start_time": "2023-12-07T13:26:32.707826800Z"
    }
   },
   "id": "f7e60661da7e7ab5"
  },
  {
   "cell_type": "code",
   "execution_count": 25,
   "outputs": [
    {
     "name": "stdout",
     "output_type": "stream",
     "text": [
      "Number of cross-validation splits: 3\n",
      "Model quality for each fold: [0.97894737 0.98421053 0.97354497]\n",
      "Average model quality: 0.9789009560939386\n"
     ]
    }
   ],
   "source": [
    "from sklearn.model_selection import GroupKFold\n",
    "\n",
    "groups = [i % 3 for i in range(len(y))]\n",
    "\n",
    "group_kfold = GroupKFold(n_splits=3)\n",
    "scores = cross_val_score(logreg, X, y, groups=groups, cv=group_kfold)\n",
    "\n",
    "print(\"Number of cross-validation splits:\", group_kfold.get_n_splits(X, y, groups))\n",
    "print(\"Model quality for each fold:\", scores)\n",
    "print(\"Average model quality:\", scores.mean())"
   ],
   "metadata": {
    "collapsed": false,
    "ExecuteTime": {
     "end_time": "2023-12-07T13:33:20.572427500Z",
     "start_time": "2023-12-07T13:33:20.342207200Z"
    }
   },
   "id": "159b87415d9e9bb9"
  },
  {
   "cell_type": "markdown",
   "source": [
    "## Решетчатый поиск"
   ],
   "metadata": {
    "collapsed": false
   },
   "id": "6a699b96f8ab1033"
  },
  {
   "cell_type": "code",
   "execution_count": 26,
   "outputs": [
    {
     "name": "stdout",
     "output_type": "stream",
     "text": [
      "Train set shape: 426, test train shape: 143\n",
      "C:  0.001 penalty:  l1 accuracy: 0.916\n",
      "C:  0.001 penalty:  l2 accuracy: 0.944\n",
      "C:  0.1 penalty:  l1 accuracy: 0.944\n",
      "C:  0.1 penalty:  l2 accuracy: 0.937\n",
      "C:  1 penalty:  l1 accuracy: 0.937\n",
      "C:  1 penalty:  l2 accuracy: 0.937\n",
      "C:  10 penalty:  l1 accuracy: 0.937\n",
      "C:  10 penalty:  l2 accuracy: 0.937\n",
      "The best accuracy value: 0.944\n",
      "The best parameter values: {'C': 0.001, 'penalty': 'l2'}\n"
     ]
    }
   ],
   "source": [
    "from sklearn.model_selection import train_test_split\n",
    "\n",
    "X = breast_cancer.data\n",
    "y = breast_cancer.target\n",
    "\n",
    "X_train, X_test, y_train, y_test = train_test_split(X, y, random_state=0)\n",
    "print(\"Train set shape: {}, test train shape: {}\".format(X_train.shape[0], X_test.shape[0]))\n",
    "\n",
    "best_score = 0\n",
    "for C in [0.001, 0.1, 1, 10]:\n",
    "    for penalty in ['l1', 'l2']:\n",
    "        logr = LogisticRegression(C=C, penalty=penalty, solver='saga', max_iter=10000)\n",
    "        logr.fit(X_train, y_train)\n",
    "        l_score = logr.score(X_test, y_test)\n",
    "        print('C: ', C, 'penalty: ', penalty, 'accuracy: {:.3f}'.format(l_score))\n",
    "\n",
    "        if l_score > best_score:\n",
    "            best_score = l_score\n",
    "            best_parameters = {'C': C, 'penalty': penalty}\n",
    "\n",
    "print(\"The best accuracy value: {:.3f}\".format(best_score))\n",
    "print(\"The best parameter values: {}\".format(best_parameters))"
   ],
   "metadata": {
    "collapsed": false,
    "ExecuteTime": {
     "end_time": "2023-12-07T13:44:37.976392700Z",
     "start_time": "2023-12-07T13:44:30.359630400Z"
    }
   },
   "id": "c79b03a0272e2399"
  },
  {
   "cell_type": "code",
   "execution_count": 27,
   "outputs": [
    {
     "name": "stdout",
     "output_type": "stream",
     "text": [
      "Best SVM score:  0.9300699300699301\n",
      "Best parameters:  (0.001, 1)\n"
     ]
    }
   ],
   "source": [
    "from sklearn.svm import SVC\n",
    "\n",
    "best_svc = 0\n",
    "for gamma in [0.001, 0.01, 0.1, 1, 10, 100]:\n",
    "    for C in [0.001, 0.01, 0.1, 1, 10, 100]:\n",
    "        svm = SVC(gamma=gamma, C=C)\n",
    "        svm.fit(X_train, y_train)\n",
    "        s_score = svm.score(X_test, y_test)\n",
    "\n",
    "        if s_score > best_svc:\n",
    "            best_svc = s_score\n",
    "            best_svc_parameters = (gamma, C)\n",
    "\n",
    "print(\"Best SVM score: \", best_svc)\n",
    "print(\"Best parameters: \", best_svc_parameters)"
   ],
   "metadata": {
    "collapsed": false,
    "ExecuteTime": {
     "end_time": "2023-12-07T13:47:23.568475100Z",
     "start_time": "2023-12-07T13:47:21.431119900Z"
    }
   },
   "id": "8b48eabb85bfeb59"
  },
  {
   "cell_type": "code",
   "execution_count": 28,
   "outputs": [
    {
     "name": "stdout",
     "output_type": "stream",
     "text": [
      "Parameter grid:\n",
      "{'C': [0.001, 0.01, 0.1, 1, 10, 100], 'gamma': [0.001, 0.01, 0.1, 1, 10, 100]}\n"
     ]
    }
   ],
   "source": [
    "param_grid = {'C': [0.001, 0.01, 0.1, 1, 10, 100], 'gamma': [0.001, 0.01, 0.1, 1, 10, 100]}\n",
    "print(\"Parameter grid:\\n{}\".format(param_grid))"
   ],
   "metadata": {
    "collapsed": false,
    "ExecuteTime": {
     "end_time": "2023-12-07T13:58:40.726091600Z",
     "start_time": "2023-12-07T13:58:40.632705700Z"
    }
   },
   "id": "51d447b37da69e17"
  },
  {
   "cell_type": "code",
   "execution_count": 29,
   "outputs": [],
   "source": [
    "from sklearn.model_selection import GridSearchCV\n",
    "from sklearn.svm import SVC\n",
    "\n",
    "grid_search = GridSearchCV(SVC(), param_grid, cv=5)"
   ],
   "metadata": {
    "collapsed": false,
    "ExecuteTime": {
     "end_time": "2023-12-07T14:00:50.915497800Z",
     "start_time": "2023-12-07T14:00:50.803504400Z"
    }
   },
   "id": "8fcd444ad586f238"
  },
  {
   "cell_type": "code",
   "execution_count": 30,
   "outputs": [],
   "source": [
    "X_train, X_test, y_train, y_test = train_test_split(X, y, random_state=0)"
   ],
   "metadata": {
    "collapsed": false,
    "ExecuteTime": {
     "end_time": "2023-12-07T14:01:53.432830800Z",
     "start_time": "2023-12-07T14:01:53.325367400Z"
    }
   },
   "id": "194c3f3711d26858"
  },
  {
   "cell_type": "code",
   "execution_count": 31,
   "outputs": [
    {
     "data": {
      "text/plain": "GridSearchCV(cv=5, estimator=SVC(),\n             param_grid={'C': [0.001, 0.01, 0.1, 1, 10, 100],\n                         'gamma': [0.001, 0.01, 0.1, 1, 10, 100]})",
      "text/html": "<style>#sk-container-id-1 {color: black;}#sk-container-id-1 pre{padding: 0;}#sk-container-id-1 div.sk-toggleable {background-color: white;}#sk-container-id-1 label.sk-toggleable__label {cursor: pointer;display: block;width: 100%;margin-bottom: 0;padding: 0.3em;box-sizing: border-box;text-align: center;}#sk-container-id-1 label.sk-toggleable__label-arrow:before {content: \"▸\";float: left;margin-right: 0.25em;color: #696969;}#sk-container-id-1 label.sk-toggleable__label-arrow:hover:before {color: black;}#sk-container-id-1 div.sk-estimator:hover label.sk-toggleable__label-arrow:before {color: black;}#sk-container-id-1 div.sk-toggleable__content {max-height: 0;max-width: 0;overflow: hidden;text-align: left;background-color: #f0f8ff;}#sk-container-id-1 div.sk-toggleable__content pre {margin: 0.2em;color: black;border-radius: 0.25em;background-color: #f0f8ff;}#sk-container-id-1 input.sk-toggleable__control:checked~div.sk-toggleable__content {max-height: 200px;max-width: 100%;overflow: auto;}#sk-container-id-1 input.sk-toggleable__control:checked~label.sk-toggleable__label-arrow:before {content: \"▾\";}#sk-container-id-1 div.sk-estimator input.sk-toggleable__control:checked~label.sk-toggleable__label {background-color: #d4ebff;}#sk-container-id-1 div.sk-label input.sk-toggleable__control:checked~label.sk-toggleable__label {background-color: #d4ebff;}#sk-container-id-1 input.sk-hidden--visually {border: 0;clip: rect(1px 1px 1px 1px);clip: rect(1px, 1px, 1px, 1px);height: 1px;margin: -1px;overflow: hidden;padding: 0;position: absolute;width: 1px;}#sk-container-id-1 div.sk-estimator {font-family: monospace;background-color: #f0f8ff;border: 1px dotted black;border-radius: 0.25em;box-sizing: border-box;margin-bottom: 0.5em;}#sk-container-id-1 div.sk-estimator:hover {background-color: #d4ebff;}#sk-container-id-1 div.sk-parallel-item::after {content: \"\";width: 100%;border-bottom: 1px solid gray;flex-grow: 1;}#sk-container-id-1 div.sk-label:hover label.sk-toggleable__label {background-color: #d4ebff;}#sk-container-id-1 div.sk-serial::before {content: \"\";position: absolute;border-left: 1px solid gray;box-sizing: border-box;top: 0;bottom: 0;left: 50%;z-index: 0;}#sk-container-id-1 div.sk-serial {display: flex;flex-direction: column;align-items: center;background-color: white;padding-right: 0.2em;padding-left: 0.2em;position: relative;}#sk-container-id-1 div.sk-item {position: relative;z-index: 1;}#sk-container-id-1 div.sk-parallel {display: flex;align-items: stretch;justify-content: center;background-color: white;position: relative;}#sk-container-id-1 div.sk-item::before, #sk-container-id-1 div.sk-parallel-item::before {content: \"\";position: absolute;border-left: 1px solid gray;box-sizing: border-box;top: 0;bottom: 0;left: 50%;z-index: -1;}#sk-container-id-1 div.sk-parallel-item {display: flex;flex-direction: column;z-index: 1;position: relative;background-color: white;}#sk-container-id-1 div.sk-parallel-item:first-child::after {align-self: flex-end;width: 50%;}#sk-container-id-1 div.sk-parallel-item:last-child::after {align-self: flex-start;width: 50%;}#sk-container-id-1 div.sk-parallel-item:only-child::after {width: 0;}#sk-container-id-1 div.sk-dashed-wrapped {border: 1px dashed gray;margin: 0 0.4em 0.5em 0.4em;box-sizing: border-box;padding-bottom: 0.4em;background-color: white;}#sk-container-id-1 div.sk-label label {font-family: monospace;font-weight: bold;display: inline-block;line-height: 1.2em;}#sk-container-id-1 div.sk-label-container {text-align: center;}#sk-container-id-1 div.sk-container {/* jupyter's `normalize.less` sets `[hidden] { display: none; }` but bootstrap.min.css set `[hidden] { display: none !important; }` so we also need the `!important` here to be able to override the default hidden behavior on the sphinx rendered scikit-learn.org. See: https://github.com/scikit-learn/scikit-learn/issues/21755 */display: inline-block !important;position: relative;}#sk-container-id-1 div.sk-text-repr-fallback {display: none;}</style><div id=\"sk-container-id-1\" class=\"sk-top-container\"><div class=\"sk-text-repr-fallback\"><pre>GridSearchCV(cv=5, estimator=SVC(),\n             param_grid={&#x27;C&#x27;: [0.001, 0.01, 0.1, 1, 10, 100],\n                         &#x27;gamma&#x27;: [0.001, 0.01, 0.1, 1, 10, 100]})</pre><b>In a Jupyter environment, please rerun this cell to show the HTML representation or trust the notebook. <br />On GitHub, the HTML representation is unable to render, please try loading this page with nbviewer.org.</b></div><div class=\"sk-container\" hidden><div class=\"sk-item sk-dashed-wrapped\"><div class=\"sk-label-container\"><div class=\"sk-label sk-toggleable\"><input class=\"sk-toggleable__control sk-hidden--visually\" id=\"sk-estimator-id-1\" type=\"checkbox\" ><label for=\"sk-estimator-id-1\" class=\"sk-toggleable__label sk-toggleable__label-arrow\">GridSearchCV</label><div class=\"sk-toggleable__content\"><pre>GridSearchCV(cv=5, estimator=SVC(),\n             param_grid={&#x27;C&#x27;: [0.001, 0.01, 0.1, 1, 10, 100],\n                         &#x27;gamma&#x27;: [0.001, 0.01, 0.1, 1, 10, 100]})</pre></div></div></div><div class=\"sk-parallel\"><div class=\"sk-parallel-item\"><div class=\"sk-item\"><div class=\"sk-label-container\"><div class=\"sk-label sk-toggleable\"><input class=\"sk-toggleable__control sk-hidden--visually\" id=\"sk-estimator-id-2\" type=\"checkbox\" ><label for=\"sk-estimator-id-2\" class=\"sk-toggleable__label sk-toggleable__label-arrow\">estimator: SVC</label><div class=\"sk-toggleable__content\"><pre>SVC()</pre></div></div></div><div class=\"sk-serial\"><div class=\"sk-item\"><div class=\"sk-estimator sk-toggleable\"><input class=\"sk-toggleable__control sk-hidden--visually\" id=\"sk-estimator-id-3\" type=\"checkbox\" ><label for=\"sk-estimator-id-3\" class=\"sk-toggleable__label sk-toggleable__label-arrow\">SVC</label><div class=\"sk-toggleable__content\"><pre>SVC()</pre></div></div></div></div></div></div></div></div></div></div>"
     },
     "execution_count": 31,
     "metadata": {},
     "output_type": "execute_result"
    }
   ],
   "source": [
    "grid_search.fit(X_train, y_train)"
   ],
   "metadata": {
    "collapsed": false,
    "ExecuteTime": {
     "end_time": "2023-12-07T14:02:21.677549300Z",
     "start_time": "2023-12-07T14:02:14.968436300Z"
    }
   },
   "id": "af14fbac81aca03a"
  },
  {
   "cell_type": "code",
   "execution_count": 40,
   "outputs": [
    {
     "name": "stdout",
     "output_type": "stream",
     "text": [
      "Correctness on the test set: 0.96\n",
      "Best value of parameters: {'C': 100, 'kernel': 'linear'}\n",
      "Best cross validation correctness value: 0.97\n",
      "The best model:\n",
      "SVC(C=100, kernel='linear')\n"
     ]
    }
   ],
   "source": [
    "print(\"Correctness on the test set: {:.2f}\".format(grid_search.score(X_test,y_test)))\n",
    "print(\"Best value of parameters: {}\".format(grid_search.best_params_))\n",
    "print(\"Best cross validation correctness value: {:.2f}\".format(grid_search.best_score_))\n",
    "print(\"The best model:\\n{}\".format(grid_search.best_estimator_))"
   ],
   "metadata": {
    "collapsed": false,
    "ExecuteTime": {
     "end_time": "2023-12-07T14:21:26.192803500Z",
     "start_time": "2023-12-07T14:21:26.179383200Z"
    }
   },
   "id": "670a783637b4caa"
  },
  {
   "cell_type": "code",
   "execution_count": 41,
   "outputs": [
    {
     "data": {
      "text/plain": "   mean_fit_time  std_fit_time  mean_score_time  std_score_time param_C  \\\n0       0.019025      0.002446         0.011832        0.001620   0.001   \n1       0.020738      0.004297         0.009813        0.000992   0.001   \n2       0.017090      0.003643         0.008724        0.003759   0.001   \n3       0.045074      0.018915         0.026572        0.014540   0.001   \n4       0.062664      0.050393         0.022866        0.009198   0.001   \n\n  param_gamma param_kernel                                         params  \\\n0       0.001          rbf  {'C': 0.001, 'gamma': 0.001, 'kernel': 'rbf'}   \n1        0.01          rbf   {'C': 0.001, 'gamma': 0.01, 'kernel': 'rbf'}   \n2         0.1          rbf    {'C': 0.001, 'gamma': 0.1, 'kernel': 'rbf'}   \n3           1          rbf      {'C': 0.001, 'gamma': 1, 'kernel': 'rbf'}   \n4          10          rbf     {'C': 0.001, 'gamma': 10, 'kernel': 'rbf'}   \n\n   split0_test_score  split1_test_score  split2_test_score  split3_test_score  \\\n0           0.637363           0.626374           0.626374           0.626374   \n1           0.637363           0.626374           0.626374           0.626374   \n2           0.637363           0.626374           0.626374           0.626374   \n3           0.637363           0.626374           0.626374           0.626374   \n4           0.637363           0.626374           0.626374           0.626374   \n\n   split4_test_score  mean_test_score  std_test_score  rank_test_score  \n0           0.626374         0.628571        0.004396               12  \n1           0.626374         0.628571        0.004396               12  \n2           0.626374         0.628571        0.004396               12  \n3           0.626374         0.628571        0.004396               12  \n4           0.626374         0.628571        0.004396               12  ",
      "text/html": "<div>\n<style scoped>\n    .dataframe tbody tr th:only-of-type {\n        vertical-align: middle;\n    }\n\n    .dataframe tbody tr th {\n        vertical-align: top;\n    }\n\n    .dataframe thead th {\n        text-align: right;\n    }\n</style>\n<table border=\"1\" class=\"dataframe\">\n  <thead>\n    <tr style=\"text-align: right;\">\n      <th></th>\n      <th>mean_fit_time</th>\n      <th>std_fit_time</th>\n      <th>mean_score_time</th>\n      <th>std_score_time</th>\n      <th>param_C</th>\n      <th>param_gamma</th>\n      <th>param_kernel</th>\n      <th>params</th>\n      <th>split0_test_score</th>\n      <th>split1_test_score</th>\n      <th>split2_test_score</th>\n      <th>split3_test_score</th>\n      <th>split4_test_score</th>\n      <th>mean_test_score</th>\n      <th>std_test_score</th>\n      <th>rank_test_score</th>\n    </tr>\n  </thead>\n  <tbody>\n    <tr>\n      <th>0</th>\n      <td>0.019025</td>\n      <td>0.002446</td>\n      <td>0.011832</td>\n      <td>0.001620</td>\n      <td>0.001</td>\n      <td>0.001</td>\n      <td>rbf</td>\n      <td>{'C': 0.001, 'gamma': 0.001, 'kernel': 'rbf'}</td>\n      <td>0.637363</td>\n      <td>0.626374</td>\n      <td>0.626374</td>\n      <td>0.626374</td>\n      <td>0.626374</td>\n      <td>0.628571</td>\n      <td>0.004396</td>\n      <td>12</td>\n    </tr>\n    <tr>\n      <th>1</th>\n      <td>0.020738</td>\n      <td>0.004297</td>\n      <td>0.009813</td>\n      <td>0.000992</td>\n      <td>0.001</td>\n      <td>0.01</td>\n      <td>rbf</td>\n      <td>{'C': 0.001, 'gamma': 0.01, 'kernel': 'rbf'}</td>\n      <td>0.637363</td>\n      <td>0.626374</td>\n      <td>0.626374</td>\n      <td>0.626374</td>\n      <td>0.626374</td>\n      <td>0.628571</td>\n      <td>0.004396</td>\n      <td>12</td>\n    </tr>\n    <tr>\n      <th>2</th>\n      <td>0.017090</td>\n      <td>0.003643</td>\n      <td>0.008724</td>\n      <td>0.003759</td>\n      <td>0.001</td>\n      <td>0.1</td>\n      <td>rbf</td>\n      <td>{'C': 0.001, 'gamma': 0.1, 'kernel': 'rbf'}</td>\n      <td>0.637363</td>\n      <td>0.626374</td>\n      <td>0.626374</td>\n      <td>0.626374</td>\n      <td>0.626374</td>\n      <td>0.628571</td>\n      <td>0.004396</td>\n      <td>12</td>\n    </tr>\n    <tr>\n      <th>3</th>\n      <td>0.045074</td>\n      <td>0.018915</td>\n      <td>0.026572</td>\n      <td>0.014540</td>\n      <td>0.001</td>\n      <td>1</td>\n      <td>rbf</td>\n      <td>{'C': 0.001, 'gamma': 1, 'kernel': 'rbf'}</td>\n      <td>0.637363</td>\n      <td>0.626374</td>\n      <td>0.626374</td>\n      <td>0.626374</td>\n      <td>0.626374</td>\n      <td>0.628571</td>\n      <td>0.004396</td>\n      <td>12</td>\n    </tr>\n    <tr>\n      <th>4</th>\n      <td>0.062664</td>\n      <td>0.050393</td>\n      <td>0.022866</td>\n      <td>0.009198</td>\n      <td>0.001</td>\n      <td>10</td>\n      <td>rbf</td>\n      <td>{'C': 0.001, 'gamma': 10, 'kernel': 'rbf'}</td>\n      <td>0.637363</td>\n      <td>0.626374</td>\n      <td>0.626374</td>\n      <td>0.626374</td>\n      <td>0.626374</td>\n      <td>0.628571</td>\n      <td>0.004396</td>\n      <td>12</td>\n    </tr>\n  </tbody>\n</table>\n</div>"
     },
     "metadata": {},
     "output_type": "display_data"
    }
   ],
   "source": [
    "import pandas as pd\n",
    "results=pd.DataFrame(grid_search.cv_results_)\n",
    "display(results.head())"
   ],
   "metadata": {
    "collapsed": false,
    "ExecuteTime": {
     "end_time": "2023-12-07T14:23:25.825278200Z",
     "start_time": "2023-12-07T14:23:25.737524900Z"
    }
   },
   "id": "d65bcf07fd154675"
  },
  {
   "cell_type": "code",
   "execution_count": 52,
   "outputs": [
    {
     "name": "stdout",
     "output_type": "stream",
     "text": [
      "Parameter grid:\n",
      "{'C': [0.001, 0.01, 0.1, 1, 10, 100], 'gamma': [0.001, 0.01, 0.1, 1, 10, 100]}\n"
     ]
    },
    {
     "data": {
      "text/plain": "<Figure size 640x480 with 2 Axes>",
      "image/png": "[encoded data removed]"
     },
     "metadata": {},
     "output_type": "display_data"
    }
   ],
   "source": [
    "import numpy as np\n",
    "import seaborn as sns\n",
    "import matplotlib.pyplot as plt\n",
    "from sklearn.model_selection import GridSearchCV\n",
    "from sklearn.svm import SVC\n",
    "from sklearn.datasets import load_breast_cancer\n",
    "\n",
    "data = load_breast_cancer()\n",
    "X = data.data\n",
    "y = data.target\n",
    "\n",
    "param_grid = {'C': [0.001, 0.01, 0.1, 1, 10, 100], 'gamma': [0.001, 0.01, 0.1, 1, 10, 100]}\n",
    "print(\"Parameter grid:\\n{}\".format(param_grid))\n",
    "\n",
    "model = SVC(kernel='rbf')\n",
    "grid_search = GridSearchCV(model, param_grid, cv=5, scoring='accuracy')\n",
    "grid_search.fit(X, y)\n",
    "\n",
    "sc = np.array(grid_search.cv_results_['mean_test_score']).reshape(len(param_grid['C']), len(param_grid['gamma']))\n",
    "\n",
    "ax = sns.heatmap(sc, annot=True, xticklabels=param_grid['gamma'], yticklabels=param_grid['C'], cmap='viridis')\n",
    "ax.set(xlabel='gamma', ylabel='C')\n",
    "ax.xaxis.tick_top()\n",
    "plt.show() "
   ],
   "metadata": {
    "collapsed": false,
    "ExecuteTime": {
     "end_time": "2023-12-07T14:56:21.063453700Z",
     "start_time": "2023-12-07T14:56:07.512840600Z"
    }
   },
   "id": "aefa58f94b282d"
  },
  {
   "cell_type": "code",
   "execution_count": 53,
   "outputs": [
    {
     "name": "stdout",
     "output_type": "stream",
     "text": [
      "List of grids:\n",
      "[{'kernel': ['rbf'], 'C': [0.001, 0.01, 0.1, 1, 10, 100], 'gamma': [0.001, 0.01, 0.1, 1, 10, 100]}, {'kernel': ['linear'], 'C': [0.001, 0.01, 0.1, 1, 10, 100]}]\n"
     ]
    }
   ],
   "source": [
    "param_grid = [{'kernel': ['rbf'],\n",
    "               'C': [0.001, 0.01, 0.1, 1, 10, 100],\n",
    "               'gamma':[0.001, 0.01, 0.1, 1, 10, 100]},\n",
    "              {'kernel': ['linear'],\n",
    "               'C': [0.001, 0.01, 0.1, 1, 10, 100]}]\n",
    "print(\"List of grids:\\n{}\".format(param_grid))"
   ],
   "metadata": {
    "collapsed": false,
    "ExecuteTime": {
     "end_time": "2023-12-07T15:01:22.786662Z",
     "start_time": "2023-12-07T15:01:21.175311200Z"
    }
   },
   "id": "e00bbe8a8d309c5b"
  },
  {
   "cell_type": "code",
   "execution_count": 61,
   "outputs": [
    {
     "name": "stdout",
     "output_type": "stream",
     "text": [
      "Best value of parameters: {'C': 100, 'kernel': 'linear'}\n",
      "Best cross validation correctness value: 0.97\n"
     ]
    }
   ],
   "source": [
    "grid_search=GridSearchCV(SVC(), param_grid, cv=5)\n",
    "grid_search.fit(X_train,y_train)\n",
    "print(\"Best value of parameters: {}\".format(grid_search.best_params_))\n",
    "print(\"Best cross validation correctness value: {:.2f}\".format(grid_search.best_score_))"
   ],
   "metadata": {
    "collapsed": false,
    "ExecuteTime": {
     "end_time": "2023-12-07T15:27:35.949243800Z",
     "start_time": "2023-12-07T15:26:26.912666700Z"
    }
   },
   "id": "ecd3d0dff37ba249"
  },
  {
   "cell_type": "code",
   "execution_count": 55,
   "outputs": [
    {
     "data": {
      "text/plain": "    mean_fit_time  std_fit_time  mean_score_time  std_score_time param_C  \\\n0        0.029487      0.017805         0.017389        0.010333   0.001   \n1        0.015256      0.004083         0.009450        0.002269   0.001   \n2        0.056391      0.022214         0.018746        0.003956   0.001   \n3        0.061970      0.033421         0.022246        0.003918   0.001   \n4        0.025824      0.005355         0.014574        0.004548   0.001   \n5        0.025340      0.006171         0.011562        0.001615   0.001   \n6        0.021471      0.008851         0.006299        0.002480    0.01   \n7        0.022190      0.003599         0.007714        0.003336    0.01   \n8        0.022530      0.005932         0.008651        0.003311    0.01   \n9        0.026323      0.006419         0.015465        0.007589    0.01   \n10       0.028194      0.007265         0.011457        0.003023    0.01   \n11       0.020139      0.005359         0.014033        0.002733    0.01   \n12       0.013131      0.003557         0.014053        0.010236     0.1   \n13       0.025911      0.003704         0.006470        0.002046     0.1   \n14       0.024545      0.003555         0.013835        0.005081     0.1   \n15       0.025326      0.004147         0.011511        0.003781     0.1   \n16       0.025485      0.002097         0.015605        0.011871     0.1   \n17       0.023501      0.002336         0.011703        0.003770     0.1   \n18       0.023516      0.013458         0.005406        0.005204       1   \n19       0.028614      0.006355         0.011759        0.007107       1   \n20       0.025091      0.003263         0.009002        0.003572       1   \n21       0.022994      0.003760         0.011618        0.001289       1   \n22       0.027780      0.005370         0.008484        0.003466       1   \n23       0.026952      0.007286         0.018922        0.015319       1   \n24       0.020657      0.002282         0.003518        0.004309      10   \n25       0.028094      0.003014         0.010672        0.003174      10   \n26       0.026824      0.003835         0.015855        0.004872      10   \n27       0.026608      0.006290         0.013757        0.005494      10   \n28       0.026940      0.005239         0.012421        0.002073      10   \n29       0.030258      0.007671         0.011496        0.002286      10   \n30       0.015808      0.002669         0.007630        0.003463     100   \n31       0.023492      0.004243         0.011592        0.001936     100   \n32       0.023871      0.002331         0.017846        0.007370     100   \n33       0.025816      0.006134         0.014655        0.006206     100   \n34       0.032477      0.013721         0.009245        0.003650     100   \n35       0.028546      0.004195         0.011963        0.003474     100   \n36       0.009623      0.002027         0.001007        0.002013   0.001   \n37       0.021804      0.006307         0.000000        0.000000    0.01   \n38       0.304660      0.102438         0.001782        0.003565     0.1   \n39       2.251837      2.427545         0.001951        0.003902       1   \n40       3.988556      0.912463         0.001497        0.002412      10   \n41      21.123877     25.340859         0.000601        0.000490     100   \n\n   param_gamma param_kernel                                         params  \\\n0        0.001          rbf  {'C': 0.001, 'gamma': 0.001, 'kernel': 'rbf'}   \n1         0.01          rbf   {'C': 0.001, 'gamma': 0.01, 'kernel': 'rbf'}   \n2          0.1          rbf    {'C': 0.001, 'gamma': 0.1, 'kernel': 'rbf'}   \n3            1          rbf      {'C': 0.001, 'gamma': 1, 'kernel': 'rbf'}   \n4           10          rbf     {'C': 0.001, 'gamma': 10, 'kernel': 'rbf'}   \n5          100          rbf    {'C': 0.001, 'gamma': 100, 'kernel': 'rbf'}   \n6        0.001          rbf   {'C': 0.01, 'gamma': 0.001, 'kernel': 'rbf'}   \n7         0.01          rbf    {'C': 0.01, 'gamma': 0.01, 'kernel': 'rbf'}   \n8          0.1          rbf     {'C': 0.01, 'gamma': 0.1, 'kernel': 'rbf'}   \n9            1          rbf       {'C': 0.01, 'gamma': 1, 'kernel': 'rbf'}   \n10          10          rbf      {'C': 0.01, 'gamma': 10, 'kernel': 'rbf'}   \n11         100          rbf     {'C': 0.01, 'gamma': 100, 'kernel': 'rbf'}   \n12       0.001          rbf    {'C': 0.1, 'gamma': 0.001, 'kernel': 'rbf'}   \n13        0.01          rbf     {'C': 0.1, 'gamma': 0.01, 'kernel': 'rbf'}   \n14         0.1          rbf      {'C': 0.1, 'gamma': 0.1, 'kernel': 'rbf'}   \n15           1          rbf        {'C': 0.1, 'gamma': 1, 'kernel': 'rbf'}   \n16          10          rbf       {'C': 0.1, 'gamma': 10, 'kernel': 'rbf'}   \n17         100          rbf      {'C': 0.1, 'gamma': 100, 'kernel': 'rbf'}   \n18       0.001          rbf      {'C': 1, 'gamma': 0.001, 'kernel': 'rbf'}   \n19        0.01          rbf       {'C': 1, 'gamma': 0.01, 'kernel': 'rbf'}   \n20         0.1          rbf        {'C': 1, 'gamma': 0.1, 'kernel': 'rbf'}   \n21           1          rbf          {'C': 1, 'gamma': 1, 'kernel': 'rbf'}   \n22          10          rbf         {'C': 1, 'gamma': 10, 'kernel': 'rbf'}   \n23         100          rbf        {'C': 1, 'gamma': 100, 'kernel': 'rbf'}   \n24       0.001          rbf     {'C': 10, 'gamma': 0.001, 'kernel': 'rbf'}   \n25        0.01          rbf      {'C': 10, 'gamma': 0.01, 'kernel': 'rbf'}   \n26         0.1          rbf       {'C': 10, 'gamma': 0.1, 'kernel': 'rbf'}   \n27           1          rbf         {'C': 10, 'gamma': 1, 'kernel': 'rbf'}   \n28          10          rbf        {'C': 10, 'gamma': 10, 'kernel': 'rbf'}   \n29         100          rbf       {'C': 10, 'gamma': 100, 'kernel': 'rbf'}   \n30       0.001          rbf    {'C': 100, 'gamma': 0.001, 'kernel': 'rbf'}   \n31        0.01          rbf     {'C': 100, 'gamma': 0.01, 'kernel': 'rbf'}   \n32         0.1          rbf      {'C': 100, 'gamma': 0.1, 'kernel': 'rbf'}   \n33           1          rbf        {'C': 100, 'gamma': 1, 'kernel': 'rbf'}   \n34          10          rbf       {'C': 100, 'gamma': 10, 'kernel': 'rbf'}   \n35         100          rbf      {'C': 100, 'gamma': 100, 'kernel': 'rbf'}   \n36         NaN       linear               {'C': 0.001, 'kernel': 'linear'}   \n37         NaN       linear                {'C': 0.01, 'kernel': 'linear'}   \n38         NaN       linear                 {'C': 0.1, 'kernel': 'linear'}   \n39         NaN       linear                   {'C': 1, 'kernel': 'linear'}   \n40         NaN       linear                  {'C': 10, 'kernel': 'linear'}   \n41         NaN       linear                 {'C': 100, 'kernel': 'linear'}   \n\n    split0_test_score  split1_test_score  split2_test_score  \\\n0            0.637363           0.626374           0.626374   \n1            0.637363           0.626374           0.626374   \n2            0.637363           0.626374           0.626374   \n3            0.637363           0.626374           0.626374   \n4            0.637363           0.626374           0.626374   \n5            0.637363           0.626374           0.626374   \n6            0.637363           0.626374           0.626374   \n7            0.637363           0.626374           0.626374   \n8            0.637363           0.626374           0.626374   \n9            0.637363           0.626374           0.626374   \n10           0.637363           0.626374           0.626374   \n11           0.637363           0.626374           0.626374   \n12           0.637363           0.626374           0.626374   \n13           0.637363           0.626374           0.626374   \n14           0.637363           0.626374           0.626374   \n15           0.637363           0.626374           0.626374   \n16           0.637363           0.626374           0.626374   \n17           0.637363           0.626374           0.626374   \n18           0.923077           0.912088           0.934066   \n19           0.637363           0.626374           0.626374   \n20           0.637363           0.626374           0.626374   \n21           0.637363           0.626374           0.626374   \n22           0.637363           0.626374           0.626374   \n23           0.637363           0.626374           0.626374   \n24           0.912088           0.912088           0.934066   \n25           0.637363           0.626374           0.626374   \n26           0.637363           0.626374           0.626374   \n27           0.637363           0.626374           0.626374   \n28           0.637363           0.626374           0.626374   \n29           0.637363           0.626374           0.626374   \n30           0.912088           0.912088           0.934066   \n31           0.637363           0.626374           0.626374   \n32           0.637363           0.626374           0.626374   \n33           0.637363           0.626374           0.626374   \n34           0.637363           0.626374           0.626374   \n35           0.637363           0.626374           0.626374   \n36           0.967033           0.923077           0.978022   \n37           0.956044           0.934066           0.978022   \n38           0.934066           0.956044           0.978022   \n39           0.956044           0.978022           0.978022   \n40           0.956044           0.945055           0.967033   \n41           0.967033           0.978022           1.000000   \n\n    split3_test_score  split4_test_score  mean_test_score  std_test_score  \\\n0            0.626374           0.626374         0.628571        0.004396   \n1            0.626374           0.626374         0.628571        0.004396   \n2            0.626374           0.626374         0.628571        0.004396   \n3            0.626374           0.626374         0.628571        0.004396   \n4            0.626374           0.626374         0.628571        0.004396   \n5            0.626374           0.626374         0.628571        0.004396   \n6            0.626374           0.626374         0.628571        0.004396   \n7            0.626374           0.626374         0.628571        0.004396   \n8            0.626374           0.626374         0.628571        0.004396   \n9            0.626374           0.626374         0.628571        0.004396   \n10           0.626374           0.626374         0.628571        0.004396   \n11           0.626374           0.626374         0.628571        0.004396   \n12           0.626374           0.626374         0.628571        0.004396   \n13           0.626374           0.626374         0.628571        0.004396   \n14           0.626374           0.626374         0.628571        0.004396   \n15           0.626374           0.626374         0.628571        0.004396   \n16           0.626374           0.626374         0.628571        0.004396   \n17           0.626374           0.626374         0.628571        0.004396   \n18           0.868132           0.912088         0.909890        0.022413   \n19           0.626374           0.626374         0.628571        0.004396   \n20           0.626374           0.626374         0.628571        0.004396   \n21           0.626374           0.626374         0.628571        0.004396   \n22           0.626374           0.626374         0.628571        0.004396   \n23           0.626374           0.626374         0.628571        0.004396   \n24           0.879121           0.890110         0.905495        0.019160   \n25           0.637363           0.637363         0.632967        0.005383   \n26           0.626374           0.626374         0.628571        0.004396   \n27           0.626374           0.626374         0.628571        0.004396   \n28           0.626374           0.626374         0.628571        0.004396   \n29           0.626374           0.626374         0.628571        0.004396   \n30           0.879121           0.890110         0.905495        0.019160   \n31           0.637363           0.637363         0.632967        0.005383   \n32           0.626374           0.626374         0.628571        0.004396   \n33           0.626374           0.626374         0.628571        0.004396   \n34           0.626374           0.626374         0.628571        0.004396   \n35           0.626374           0.626374         0.628571        0.004396   \n36           0.923077           0.901099         0.938462        0.029157   \n37           0.956044           0.912088         0.947253        0.022413   \n38           0.956044           0.912088         0.947253        0.022413   \n39           0.956044           0.912088         0.956044        0.024076   \n40           0.978022           0.923077         0.953846        0.018906   \n41           0.989011           0.923077         0.971429        0.026556   \n\n    rank_test_score  \n0                12  \n1                12  \n2                12  \n3                12  \n4                12  \n5                12  \n6                12  \n7                12  \n8                12  \n9                12  \n10               12  \n11               12  \n12               12  \n13               12  \n14               12  \n15               12  \n16               12  \n17               12  \n18                7  \n19               12  \n20               12  \n21               12  \n22               12  \n23               12  \n24                8  \n25               10  \n26               12  \n27               12  \n28               12  \n29               12  \n30                8  \n31               10  \n32               12  \n33               12  \n34               12  \n35               12  \n36                6  \n37                4  \n38                4  \n39                2  \n40                3  \n41                1  ",
      "text/html": "<div>\n<style scoped>\n    .dataframe tbody tr th:only-of-type {\n        vertical-align: middle;\n    }\n\n    .dataframe tbody tr th {\n        vertical-align: top;\n    }\n\n    .dataframe thead th {\n        text-align: right;\n    }\n</style>\n<table border=\"1\" class=\"dataframe\">\n  <thead>\n    <tr style=\"text-align: right;\">\n      <th></th>\n      <th>mean_fit_time</th>\n      <th>std_fit_time</th>\n      <th>mean_score_time</th>\n      <th>std_score_time</th>\n      <th>param_C</th>\n      <th>param_gamma</th>\n      <th>param_kernel</th>\n      <th>params</th>\n      <th>split0_test_score</th>\n      <th>split1_test_score</th>\n      <th>split2_test_score</th>\n      <th>split3_test_score</th>\n      <th>split4_test_score</th>\n      <th>mean_test_score</th>\n      <th>std_test_score</th>\n      <th>rank_test_score</th>\n    </tr>\n  </thead>\n  <tbody>\n    <tr>\n      <th>0</th>\n      <td>0.029487</td>\n      <td>0.017805</td>\n      <td>0.017389</td>\n      <td>0.010333</td>\n      <td>0.001</td>\n      <td>0.001</td>\n      <td>rbf</td>\n      <td>{'C': 0.001, 'gamma': 0.001, 'kernel': 'rbf'}</td>\n      <td>0.637363</td>\n      <td>0.626374</td>\n      <td>0.626374</td>\n      <td>0.626374</td>\n      <td>0.626374</td>\n      <td>0.628571</td>\n      <td>0.004396</td>\n      <td>12</td>\n    </tr>\n    <tr>\n      <th>1</th>\n      <td>0.015256</td>\n      <td>0.004083</td>\n      <td>0.009450</td>\n      <td>0.002269</td>\n      <td>0.001</td>\n      <td>0.01</td>\n      <td>rbf</td>\n      <td>{'C': 0.001, 'gamma': 0.01, 'kernel': 'rbf'}</td>\n      <td>0.637363</td>\n      <td>0.626374</td>\n      <td>0.626374</td>\n      <td>0.626374</td>\n      <td>0.626374</td>\n      <td>0.628571</td>\n      <td>0.004396</td>\n      <td>12</td>\n    </tr>\n    <tr>\n      <th>2</th>\n      <td>0.056391</td>\n      <td>0.022214</td>\n      <td>0.018746</td>\n      <td>0.003956</td>\n      <td>0.001</td>\n      <td>0.1</td>\n      <td>rbf</td>\n      <td>{'C': 0.001, 'gamma': 0.1, 'kernel': 'rbf'}</td>\n      <td>0.637363</td>\n      <td>0.626374</td>\n      <td>0.626374</td>\n      <td>0.626374</td>\n      <td>0.626374</td>\n      <td>0.628571</td>\n      <td>0.004396</td>\n      <td>12</td>\n    </tr>\n    <tr>\n      <th>3</th>\n      <td>0.061970</td>\n      <td>0.033421</td>\n      <td>0.022246</td>\n      <td>0.003918</td>\n      <td>0.001</td>\n      <td>1</td>\n      <td>rbf</td>\n      <td>{'C': 0.001, 'gamma': 1, 'kernel': 'rbf'}</td>\n      <td>0.637363</td>\n      <td>0.626374</td>\n      <td>0.626374</td>\n      <td>0.626374</td>\n      <td>0.626374</td>\n      <td>0.628571</td>\n      <td>0.004396</td>\n      <td>12</td>\n    </tr>\n    <tr>\n      <th>4</th>\n      <td>0.025824</td>\n      <td>0.005355</td>\n      <td>0.014574</td>\n      <td>0.004548</td>\n      <td>0.001</td>\n      <td>10</td>\n      <td>rbf</td>\n      <td>{'C': 0.001, 'gamma': 10, 'kernel': 'rbf'}</td>\n      <td>0.637363</td>\n      <td>0.626374</td>\n      <td>0.626374</td>\n      <td>0.626374</td>\n      <td>0.626374</td>\n      <td>0.628571</td>\n      <td>0.004396</td>\n      <td>12</td>\n    </tr>\n    <tr>\n      <th>5</th>\n      <td>0.025340</td>\n      <td>0.006171</td>\n      <td>0.011562</td>\n      <td>0.001615</td>\n      <td>0.001</td>\n      <td>100</td>\n      <td>rbf</td>\n      <td>{'C': 0.001, 'gamma': 100, 'kernel': 'rbf'}</td>\n      <td>0.637363</td>\n      <td>0.626374</td>\n      <td>0.626374</td>\n      <td>0.626374</td>\n      <td>0.626374</td>\n      <td>0.628571</td>\n      <td>0.004396</td>\n      <td>12</td>\n    </tr>\n    <tr>\n      <th>6</th>\n      <td>0.021471</td>\n      <td>0.008851</td>\n      <td>0.006299</td>\n      <td>0.002480</td>\n      <td>0.01</td>\n      <td>0.001</td>\n      <td>rbf</td>\n      <td>{'C': 0.01, 'gamma': 0.001, 'kernel': 'rbf'}</td>\n      <td>0.637363</td>\n      <td>0.626374</td>\n      <td>0.626374</td>\n      <td>0.626374</td>\n      <td>0.626374</td>\n      <td>0.628571</td>\n      <td>0.004396</td>\n      <td>12</td>\n    </tr>\n    <tr>\n      <th>7</th>\n      <td>0.022190</td>\n      <td>0.003599</td>\n      <td>0.007714</td>\n      <td>0.003336</td>\n      <td>0.01</td>\n      <td>0.01</td>\n      <td>rbf</td>\n      <td>{'C': 0.01, 'gamma': 0.01, 'kernel': 'rbf'}</td>\n      <td>0.637363</td>\n      <td>0.626374</td>\n      <td>0.626374</td>\n      <td>0.626374</td>\n      <td>0.626374</td>\n      <td>0.628571</td>\n      <td>0.004396</td>\n      <td>12</td>\n    </tr>\n    <tr>\n      <th>8</th>\n      <td>0.022530</td>\n      <td>0.005932</td>\n      <td>0.008651</td>\n      <td>0.003311</td>\n      <td>0.01</td>\n      <td>0.1</td>\n      <td>rbf</td>\n      <td>{'C': 0.01, 'gamma': 0.1, 'kernel': 'rbf'}</td>\n      <td>0.637363</td>\n      <td>0.626374</td>\n      <td>0.626374</td>\n      <td>0.626374</td>\n      <td>0.626374</td>\n      <td>0.628571</td>\n      <td>0.004396</td>\n      <td>12</td>\n    </tr>\n    <tr>\n      <th>9</th>\n      <td>0.026323</td>\n      <td>0.006419</td>\n      <td>0.015465</td>\n      <td>0.007589</td>\n      <td>0.01</td>\n      <td>1</td>\n      <td>rbf</td>\n      <td>{'C': 0.01, 'gamma': 1, 'kernel': 'rbf'}</td>\n      <td>0.637363</td>\n      <td>0.626374</td>\n      <td>0.626374</td>\n      <td>0.626374</td>\n      <td>0.626374</td>\n      <td>0.628571</td>\n      <td>0.004396</td>\n      <td>12</td>\n    </tr>\n    <tr>\n      <th>10</th>\n      <td>0.028194</td>\n      <td>0.007265</td>\n      <td>0.011457</td>\n      <td>0.003023</td>\n      <td>0.01</td>\n      <td>10</td>\n      <td>rbf</td>\n      <td>{'C': 0.01, 'gamma': 10, 'kernel': 'rbf'}</td>\n      <td>0.637363</td>\n      <td>0.626374</td>\n      <td>0.626374</td>\n      <td>0.626374</td>\n      <td>0.626374</td>\n      <td>0.628571</td>\n      <td>0.004396</td>\n      <td>12</td>\n    </tr>\n    <tr>\n      <th>11</th>\n      <td>0.020139</td>\n      <td>0.005359</td>\n      <td>0.014033</td>\n      <td>0.002733</td>\n      <td>0.01</td>\n      <td>100</td>\n      <td>rbf</td>\n      <td>{'C': 0.01, 'gamma': 100, 'kernel': 'rbf'}</td>\n      <td>0.637363</td>\n      <td>0.626374</td>\n      <td>0.626374</td>\n      <td>0.626374</td>\n      <td>0.626374</td>\n      <td>0.628571</td>\n      <td>0.004396</td>\n      <td>12</td>\n    </tr>\n    <tr>\n      <th>12</th>\n      <td>0.013131</td>\n      <td>0.003557</td>\n      <td>0.014053</td>\n      <td>0.010236</td>\n      <td>0.1</td>\n      <td>0.001</td>\n      <td>rbf</td>\n      <td>{'C': 0.1, 'gamma': 0.001, 'kernel': 'rbf'}</td>\n      <td>0.637363</td>\n      <td>0.626374</td>\n      <td>0.626374</td>\n      <td>0.626374</td>\n      <td>0.626374</td>\n      <td>0.628571</td>\n      <td>0.004396</td>\n      <td>12</td>\n    </tr>\n    <tr>\n      <th>13</th>\n      <td>0.025911</td>\n      <td>0.003704</td>\n      <td>0.006470</td>\n      <td>0.002046</td>\n      <td>0.1</td>\n      <td>0.01</td>\n      <td>rbf</td>\n      <td>{'C': 0.1, 'gamma': 0.01, 'kernel': 'rbf'}</td>\n      <td>0.637363</td>\n      <td>0.626374</td>\n      <td>0.626374</td>\n      <td>0.626374</td>\n      <td>0.626374</td>\n      <td>0.628571</td>\n      <td>0.004396</td>\n      <td>12</td>\n    </tr>\n    <tr>\n      <th>14</th>\n      <td>0.024545</td>\n      <td>0.003555</td>\n      <td>0.013835</td>\n      <td>0.005081</td>\n      <td>0.1</td>\n      <td>0.1</td>\n      <td>rbf</td>\n      <td>{'C': 0.1, 'gamma': 0.1, 'kernel': 'rbf'}</td>\n      <td>0.637363</td>\n      <td>0.626374</td>\n      <td>0.626374</td>\n      <td>0.626374</td>\n      <td>0.626374</td>\n      <td>0.628571</td>\n      <td>0.004396</td>\n      <td>12</td>\n    </tr>\n    <tr>\n      <th>15</th>\n      <td>0.025326</td>\n      <td>0.004147</td>\n      <td>0.011511</td>\n      <td>0.003781</td>\n      <td>0.1</td>\n      <td>1</td>\n      <td>rbf</td>\n      <td>{'C': 0.1, 'gamma': 1, 'kernel': 'rbf'}</td>\n      <td>0.637363</td>\n      <td>0.626374</td>\n      <td>0.626374</td>\n      <td>0.626374</td>\n      <td>0.626374</td>\n      <td>0.628571</td>\n      <td>0.004396</td>\n      <td>12</td>\n    </tr>\n    <tr>\n      <th>16</th>\n      <td>0.025485</td>\n      <td>0.002097</td>\n      <td>0.015605</td>\n      <td>0.011871</td>\n      <td>0.1</td>\n      <td>10</td>\n      <td>rbf</td>\n      <td>{'C': 0.1, 'gamma': 10, 'kernel': 'rbf'}</td>\n      <td>0.637363</td>\n      <td>0.626374</td>\n      <td>0.626374</td>\n      <td>0.626374</td>\n      <td>0.626374</td>\n      <td>0.628571</td>\n      <td>0.004396</td>\n      <td>12</td>\n    </tr>\n    <tr>\n      <th>17</th>\n      <td>0.023501</td>\n      <td>0.002336</td>\n      <td>0.011703</td>\n      <td>0.003770</td>\n      <td>0.1</td>\n      <td>100</td>\n      <td>rbf</td>\n      <td>{'C': 0.1, 'gamma': 100, 'kernel': 'rbf'}</td>\n      <td>0.637363</td>\n      <td>0.626374</td>\n      <td>0.626374</td>\n      <td>0.626374</td>\n      <td>0.626374</td>\n      <td>0.628571</td>\n      <td>0.004396</td>\n      <td>12</td>\n    </tr>\n    <tr>\n      <th>18</th>\n      <td>0.023516</td>\n      <td>0.013458</td>\n      <td>0.005406</td>\n      <td>0.005204</td>\n      <td>1</td>\n      <td>0.001</td>\n      <td>rbf</td>\n      <td>{'C': 1, 'gamma': 0.001, 'kernel': 'rbf'}</td>\n      <td>0.923077</td>\n      <td>0.912088</td>\n      <td>0.934066</td>\n      <td>0.868132</td>\n      <td>0.912088</td>\n      <td>0.909890</td>\n      <td>0.022413</td>\n      <td>7</td>\n    </tr>\n    <tr>\n      <th>19</th>\n      <td>0.028614</td>\n      <td>0.006355</td>\n      <td>0.011759</td>\n      <td>0.007107</td>\n      <td>1</td>\n      <td>0.01</td>\n      <td>rbf</td>\n      <td>{'C': 1, 'gamma': 0.01, 'kernel': 'rbf'}</td>\n      <td>0.637363</td>\n      <td>0.626374</td>\n      <td>0.626374</td>\n      <td>0.626374</td>\n      <td>0.626374</td>\n      <td>0.628571</td>\n      <td>0.004396</td>\n      <td>12</td>\n    </tr>\n    <tr>\n      <th>20</th>\n      <td>0.025091</td>\n      <td>0.003263</td>\n      <td>0.009002</td>\n      <td>0.003572</td>\n      <td>1</td>\n      <td>0.1</td>\n      <td>rbf</td>\n      <td>{'C': 1, 'gamma': 0.1, 'kernel': 'rbf'}</td>\n      <td>0.637363</td>\n      <td>0.626374</td>\n      <td>0.626374</td>\n      <td>0.626374</td>\n      <td>0.626374</td>\n      <td>0.628571</td>\n      <td>0.004396</td>\n      <td>12</td>\n    </tr>\n    <tr>\n      <th>21</th>\n      <td>0.022994</td>\n      <td>0.003760</td>\n      <td>0.011618</td>\n      <td>0.001289</td>\n      <td>1</td>\n      <td>1</td>\n      <td>rbf</td>\n      <td>{'C': 1, 'gamma': 1, 'kernel': 'rbf'}</td>\n      <td>0.637363</td>\n      <td>0.626374</td>\n      <td>0.626374</td>\n      <td>0.626374</td>\n      <td>0.626374</td>\n      <td>0.628571</td>\n      <td>0.004396</td>\n      <td>12</td>\n    </tr>\n    <tr>\n      <th>22</th>\n      <td>0.027780</td>\n      <td>0.005370</td>\n      <td>0.008484</td>\n      <td>0.003466</td>\n      <td>1</td>\n      <td>10</td>\n      <td>rbf</td>\n      <td>{'C': 1, 'gamma': 10, 'kernel': 'rbf'}</td>\n      <td>0.637363</td>\n      <td>0.626374</td>\n      <td>0.626374</td>\n      <td>0.626374</td>\n      <td>0.626374</td>\n      <td>0.628571</td>\n      <td>0.004396</td>\n      <td>12</td>\n    </tr>\n    <tr>\n      <th>23</th>\n      <td>0.026952</td>\n      <td>0.007286</td>\n      <td>0.018922</td>\n      <td>0.015319</td>\n      <td>1</td>\n      <td>100</td>\n      <td>rbf</td>\n      <td>{'C': 1, 'gamma': 100, 'kernel': 'rbf'}</td>\n      <td>0.637363</td>\n      <td>0.626374</td>\n      <td>0.626374</td>\n      <td>0.626374</td>\n      <td>0.626374</td>\n      <td>0.628571</td>\n      <td>0.004396</td>\n      <td>12</td>\n    </tr>\n    <tr>\n      <th>24</th>\n      <td>0.020657</td>\n      <td>0.002282</td>\n      <td>0.003518</td>\n      <td>0.004309</td>\n      <td>10</td>\n      <td>0.001</td>\n      <td>rbf</td>\n      <td>{'C': 10, 'gamma': 0.001, 'kernel': 'rbf'}</td>\n      <td>0.912088</td>\n      <td>0.912088</td>\n      <td>0.934066</td>\n      <td>0.879121</td>\n      <td>0.890110</td>\n      <td>0.905495</td>\n      <td>0.019160</td>\n      <td>8</td>\n    </tr>\n    <tr>\n      <th>25</th>\n      <td>0.028094</td>\n      <td>0.003014</td>\n      <td>0.010672</td>\n      <td>0.003174</td>\n      <td>10</td>\n      <td>0.01</td>\n      <td>rbf</td>\n      <td>{'C': 10, 'gamma': 0.01, 'kernel': 'rbf'}</td>\n      <td>0.637363</td>\n      <td>0.626374</td>\n      <td>0.626374</td>\n      <td>0.637363</td>\n      <td>0.637363</td>\n      <td>0.632967</td>\n      <td>0.005383</td>\n      <td>10</td>\n    </tr>\n    <tr>\n      <th>26</th>\n      <td>0.026824</td>\n      <td>0.003835</td>\n      <td>0.015855</td>\n      <td>0.004872</td>\n      <td>10</td>\n      <td>0.1</td>\n      <td>rbf</td>\n      <td>{'C': 10, 'gamma': 0.1, 'kernel': 'rbf'}</td>\n      <td>0.637363</td>\n      <td>0.626374</td>\n      <td>0.626374</td>\n      <td>0.626374</td>\n      <td>0.626374</td>\n      <td>0.628571</td>\n      <td>0.004396</td>\n      <td>12</td>\n    </tr>\n    <tr>\n      <th>27</th>\n      <td>0.026608</td>\n      <td>0.006290</td>\n      <td>0.013757</td>\n      <td>0.005494</td>\n      <td>10</td>\n      <td>1</td>\n      <td>rbf</td>\n      <td>{'C': 10, 'gamma': 1, 'kernel': 'rbf'}</td>\n      <td>0.637363</td>\n      <td>0.626374</td>\n      <td>0.626374</td>\n      <td>0.626374</td>\n      <td>0.626374</td>\n      <td>0.628571</td>\n      <td>0.004396</td>\n      <td>12</td>\n    </tr>\n    <tr>\n      <th>28</th>\n      <td>0.026940</td>\n      <td>0.005239</td>\n      <td>0.012421</td>\n      <td>0.002073</td>\n      <td>10</td>\n      <td>10</td>\n      <td>rbf</td>\n      <td>{'C': 10, 'gamma': 10, 'kernel': 'rbf'}</td>\n      <td>0.637363</td>\n      <td>0.626374</td>\n      <td>0.626374</td>\n      <td>0.626374</td>\n      <td>0.626374</td>\n      <td>0.628571</td>\n      <td>0.004396</td>\n      <td>12</td>\n    </tr>\n    <tr>\n      <th>29</th>\n      <td>0.030258</td>\n      <td>0.007671</td>\n      <td>0.011496</td>\n      <td>0.002286</td>\n      <td>10</td>\n      <td>100</td>\n      <td>rbf</td>\n      <td>{'C': 10, 'gamma': 100, 'kernel': 'rbf'}</td>\n      <td>0.637363</td>\n      <td>0.626374</td>\n      <td>0.626374</td>\n      <td>0.626374</td>\n      <td>0.626374</td>\n      <td>0.628571</td>\n      <td>0.004396</td>\n      <td>12</td>\n    </tr>\n    <tr>\n      <th>30</th>\n      <td>0.015808</td>\n      <td>0.002669</td>\n      <td>0.007630</td>\n      <td>0.003463</td>\n      <td>100</td>\n      <td>0.001</td>\n      <td>rbf</td>\n      <td>{'C': 100, 'gamma': 0.001, 'kernel': 'rbf'}</td>\n      <td>0.912088</td>\n      <td>0.912088</td>\n      <td>0.934066</td>\n      <td>0.879121</td>\n      <td>0.890110</td>\n      <td>0.905495</td>\n      <td>0.019160</td>\n      <td>8</td>\n    </tr>\n    <tr>\n      <th>31</th>\n      <td>0.023492</td>\n      <td>0.004243</td>\n      <td>0.011592</td>\n      <td>0.001936</td>\n      <td>100</td>\n      <td>0.01</td>\n      <td>rbf</td>\n      <td>{'C': 100, 'gamma': 0.01, 'kernel': 'rbf'}</td>\n      <td>0.637363</td>\n      <td>0.626374</td>\n      <td>0.626374</td>\n      <td>0.637363</td>\n      <td>0.637363</td>\n      <td>0.632967</td>\n      <td>0.005383</td>\n      <td>10</td>\n    </tr>\n    <tr>\n      <th>32</th>\n      <td>0.023871</td>\n      <td>0.002331</td>\n      <td>0.017846</td>\n      <td>0.007370</td>\n      <td>100</td>\n      <td>0.1</td>\n      <td>rbf</td>\n      <td>{'C': 100, 'gamma': 0.1, 'kernel': 'rbf'}</td>\n      <td>0.637363</td>\n      <td>0.626374</td>\n      <td>0.626374</td>\n      <td>0.626374</td>\n      <td>0.626374</td>\n      <td>0.628571</td>\n      <td>0.004396</td>\n      <td>12</td>\n    </tr>\n    <tr>\n      <th>33</th>\n      <td>0.025816</td>\n      <td>0.006134</td>\n      <td>0.014655</td>\n      <td>0.006206</td>\n      <td>100</td>\n      <td>1</td>\n      <td>rbf</td>\n      <td>{'C': 100, 'gamma': 1, 'kernel': 'rbf'}</td>\n      <td>0.637363</td>\n      <td>0.626374</td>\n      <td>0.626374</td>\n      <td>0.626374</td>\n      <td>0.626374</td>\n      <td>0.628571</td>\n      <td>0.004396</td>\n      <td>12</td>\n    </tr>\n    <tr>\n      <th>34</th>\n      <td>0.032477</td>\n      <td>0.013721</td>\n      <td>0.009245</td>\n      <td>0.003650</td>\n      <td>100</td>\n      <td>10</td>\n      <td>rbf</td>\n      <td>{'C': 100, 'gamma': 10, 'kernel': 'rbf'}</td>\n      <td>0.637363</td>\n      <td>0.626374</td>\n      <td>0.626374</td>\n      <td>0.626374</td>\n      <td>0.626374</td>\n      <td>0.628571</td>\n      <td>0.004396</td>\n      <td>12</td>\n    </tr>\n    <tr>\n      <th>35</th>\n      <td>0.028546</td>\n      <td>0.004195</td>\n      <td>0.011963</td>\n      <td>0.003474</td>\n      <td>100</td>\n      <td>100</td>\n      <td>rbf</td>\n      <td>{'C': 100, 'gamma': 100, 'kernel': 'rbf'}</td>\n      <td>0.637363</td>\n      <td>0.626374</td>\n      <td>0.626374</td>\n      <td>0.626374</td>\n      <td>0.626374</td>\n      <td>0.628571</td>\n      <td>0.004396</td>\n      <td>12</td>\n    </tr>\n    <tr>\n      <th>36</th>\n      <td>0.009623</td>\n      <td>0.002027</td>\n      <td>0.001007</td>\n      <td>0.002013</td>\n      <td>0.001</td>\n      <td>NaN</td>\n      <td>linear</td>\n      <td>{'C': 0.001, 'kernel': 'linear'}</td>\n      <td>0.967033</td>\n      <td>0.923077</td>\n      <td>0.978022</td>\n      <td>0.923077</td>\n      <td>0.901099</td>\n      <td>0.938462</td>\n      <td>0.029157</td>\n      <td>6</td>\n    </tr>\n    <tr>\n      <th>37</th>\n      <td>0.021804</td>\n      <td>0.006307</td>\n      <td>0.000000</td>\n      <td>0.000000</td>\n      <td>0.01</td>\n      <td>NaN</td>\n      <td>linear</td>\n      <td>{'C': 0.01, 'kernel': 'linear'}</td>\n      <td>0.956044</td>\n      <td>0.934066</td>\n      <td>0.978022</td>\n      <td>0.956044</td>\n      <td>0.912088</td>\n      <td>0.947253</td>\n      <td>0.022413</td>\n      <td>4</td>\n    </tr>\n    <tr>\n      <th>38</th>\n      <td>0.304660</td>\n      <td>0.102438</td>\n      <td>0.001782</td>\n      <td>0.003565</td>\n      <td>0.1</td>\n      <td>NaN</td>\n      <td>linear</td>\n      <td>{'C': 0.1, 'kernel': 'linear'}</td>\n      <td>0.934066</td>\n      <td>0.956044</td>\n      <td>0.978022</td>\n      <td>0.956044</td>\n      <td>0.912088</td>\n      <td>0.947253</td>\n      <td>0.022413</td>\n      <td>4</td>\n    </tr>\n    <tr>\n      <th>39</th>\n      <td>2.251837</td>\n      <td>2.427545</td>\n      <td>0.001951</td>\n      <td>0.003902</td>\n      <td>1</td>\n      <td>NaN</td>\n      <td>linear</td>\n      <td>{'C': 1, 'kernel': 'linear'}</td>\n      <td>0.956044</td>\n      <td>0.978022</td>\n      <td>0.978022</td>\n      <td>0.956044</td>\n      <td>0.912088</td>\n      <td>0.956044</td>\n      <td>0.024076</td>\n      <td>2</td>\n    </tr>\n    <tr>\n      <th>40</th>\n      <td>3.988556</td>\n      <td>0.912463</td>\n      <td>0.001497</td>\n      <td>0.002412</td>\n      <td>10</td>\n      <td>NaN</td>\n      <td>linear</td>\n      <td>{'C': 10, 'kernel': 'linear'}</td>\n      <td>0.956044</td>\n      <td>0.945055</td>\n      <td>0.967033</td>\n      <td>0.978022</td>\n      <td>0.923077</td>\n      <td>0.953846</td>\n      <td>0.018906</td>\n      <td>3</td>\n    </tr>\n    <tr>\n      <th>41</th>\n      <td>21.123877</td>\n      <td>25.340859</td>\n      <td>0.000601</td>\n      <td>0.000490</td>\n      <td>100</td>\n      <td>NaN</td>\n      <td>linear</td>\n      <td>{'C': 100, 'kernel': 'linear'}</td>\n      <td>0.967033</td>\n      <td>0.978022</td>\n      <td>1.000000</td>\n      <td>0.989011</td>\n      <td>0.923077</td>\n      <td>0.971429</td>\n      <td>0.026556</td>\n      <td>1</td>\n    </tr>\n  </tbody>\n</table>\n</div>"
     },
     "execution_count": 55,
     "metadata": {},
     "output_type": "execute_result"
    }
   ],
   "source": [
    "results=pd.DataFrame(grid_search.cv_results_)\n",
    "results"
   ],
   "metadata": {
    "collapsed": false,
    "ExecuteTime": {
     "end_time": "2023-12-07T15:06:24.444391800Z",
     "start_time": "2023-12-07T15:06:24.017339600Z"
    }
   },
   "id": "d4f42bfddac25734"
  },
  {
   "cell_type": "code",
   "execution_count": 60,
   "outputs": [
    {
     "name": "stdout",
     "output_type": "stream",
     "text": [
      "Importance of correctness of cross-checking:  [0.93859649 0.92982456 0.97368421 0.92105263 0.98230088]\n",
      "Average value of cross-check correctness:  0.9490917559385188\n"
     ]
    }
   ],
   "source": [
    "scores=cross_val_score(GridSearchCV(SVC(), param_grid, cv=5), X, y, cv=5)\n",
    "print(\"Importance of correctness of cross-checking: \", scores)\n",
    "print(\"Average value of cross-check correctness: \", scores.mean())"
   ],
   "metadata": {
    "collapsed": false,
    "ExecuteTime": {
     "end_time": "2023-12-07T15:26:05.315186700Z",
     "start_time": "2023-12-07T15:20:22.597918600Z"
    }
   },
   "id": "2f71a36dd16595c7"
  },
  {
   "cell_type": "code",
   "execution_count": 62,
   "outputs": [
    {
     "name": "stdout",
     "output_type": "stream",
     "text": [
      "Importance of correctness of cross-checking: [0.93859649 0.93859649 0.97368421 0.94736842 0.95575221]\n"
     ]
    }
   ],
   "source": [
    "from sklearn.model_selection import ParameterGrid, StratifiedKFold\n",
    "\n",
    "def nested_cv(X, y, inner_cv, outer_cv, Classifier, parameter_grid):\n",
    "    outer_scores = []\n",
    "    # для каждого разбиения данных во внешней перекрестной проверке \n",
    "    # (метод split возвращает индексы) \n",
    "    for training_samples, test_samples in outer_cv.split(X, y):\n",
    "        # находим наилучшие параметры с помощью внутренней перекрестной проверки  \n",
    "        best_parms = {}\n",
    "        best_score = -np.inf\n",
    "        # итерируем по параметрам   \n",
    "        for parameters in parameter_grid:\n",
    "             # собираем значения правильности по всем внутренним разбиениям \n",
    "            cv_scores = []\n",
    "             # итерируем по разбиениям внутренней перекрестной проверки \n",
    "            for inner_train, inner_test in inner_cv.split(\n",
    "                    X[training_samples], y[training_samples]):\n",
    "                # строим классификатор с данными параметрами на внутреннем обучающем наборе\n",
    "                clf = Classifier(**parameters)\n",
    "                clf.fit(X[inner_train], y[inner_train])\n",
    "               # оцениваем качество на внутреннем тестовом наборе\n",
    "                score = clf.score(X[inner_test], y[inner_test])\n",
    "                cv_scores.append(score)\n",
    "            # вычисляем среднее значение правильности по внутренним блокам\n",
    "            mean_score = np.mean(cv_scores)\n",
    "            if mean_score > best_score:\n",
    "                # если лучше, чем предыдущие, запоминаем параметры \n",
    "                best_score = mean_score\n",
    "                best_params = parameters\n",
    "        # строим классификатор с лучшими параметрами на внешнем обучающем наборе\n",
    "        clf = Classifier(**best_params)\n",
    "        clf.fit(X[training_samples], y[training_samples])\n",
    "        # оцениваем качество на внешнем тестовом наборе \n",
    "        outer_scores.append(clf.score(X[test_samples], y[test_samples]))\n",
    "    return np.array(outer_scores)\n",
    "\n",
    "scores=nested_cv(X,y, StratifiedKFold(5),StratifiedKFold(5), SVC, ParameterGrid(param_grid))\n",
    "print(\"Importance of correctness of cross-checking: {}\".format(scores))"
   ],
   "metadata": {
    "collapsed": false,
    "ExecuteTime": {
     "end_time": "2023-12-07T15:38:01.312561900Z",
     "start_time": "2023-12-07T15:32:37.544866900Z"
    }
   },
   "id": "383c677f562c9ef6"
  },
  {
   "cell_type": "markdown",
   "source": [
    "## Метрики качества моделей и их вычисление\n"
   ],
   "metadata": {
    "collapsed": false
   },
   "id": "282e6b514eca828b"
  },
  {
   "cell_type": "code",
   "execution_count": 63,
   "outputs": [
    {
     "name": "stdout",
     "output_type": "stream",
     "text": [
      "(array([0, 1]), array([212, 357], dtype=int64))\n"
     ]
    }
   ],
   "source": [
    "print(np.unique(y, return_counts=True))"
   ],
   "metadata": {
    "collapsed": false,
    "ExecuteTime": {
     "end_time": "2023-12-07T15:45:03.586807500Z",
     "start_time": "2023-12-07T15:45:03.506977300Z"
    }
   },
   "id": "4302561eb598d0d8"
  },
  {
   "cell_type": "code",
   "execution_count": 66,
   "outputs": [
    {
     "name": "stdout",
     "output_type": "stream",
     "text": [
      "Accuracy of the trained model is 0.988\n"
     ]
    }
   ],
   "source": [
    "from sklearn.metrics import accuracy_score\n",
    "\n",
    "logreg.fit(X, y)\n",
    "y_pred = logreg.predict(X)\n",
    "print(\"Accuracy of the trained model is\", round(accuracy_score(y, y_pred), 3))"
   ],
   "metadata": {
    "collapsed": false,
    "ExecuteTime": {
     "end_time": "2023-12-07T15:46:05.731267900Z",
     "start_time": "2023-12-07T15:46:05.669138800Z"
    }
   },
   "id": "e219765341fea899"
  },
  {
   "cell_type": "code",
   "execution_count": 67,
   "outputs": [
    {
     "name": "stdout",
     "output_type": "stream",
     "text": [
      "(array([0, 1]), array([ 50, 357], dtype=int64))\n",
      "(array([1]), array([407], dtype=int64))\n",
      "accuracy of the dummy classifier is 0.88\n"
     ]
    }
   ],
   "source": [
    "from sklearn.dummy import DummyClassifier\n",
    "\n",
    "X_malignant = X[y == 0]\n",
    "y_malignant = y[y == 0]\n",
    "X_benign = X[y == 1]\n",
    "y_benign = y[y == 1]\n",
    "X_new = np.r_[X_benign, X_malignant[:50]]\n",
    "y_new = np.r_[y_benign, y_malignant[:50]]\n",
    "print(np.unique(y_new, return_counts=True))\n",
    "\n",
    "dummy = DummyClassifier(strategy='most_frequent')\n",
    "dummy.fit(X_new, y_new)\n",
    "pred_dummy = dummy.predict(X_new)\n",
    "\n",
    "print(np.unique(pred_dummy, return_counts=True))\n",
    "print('accuracy of the dummy classifier is', round(accuracy_score(y_new, pred_dummy), 2))"
   ],
   "metadata": {
    "collapsed": false,
    "ExecuteTime": {
     "end_time": "2023-12-07T15:46:09.553712800Z",
     "start_time": "2023-12-07T15:46:09.499188Z"
    }
   },
   "id": "8c95093c021d6b5"
  },
  {
   "cell_type": "code",
   "execution_count": 69,
   "outputs": [
    {
     "name": "stdout",
     "output_type": "stream",
     "text": [
      "[[207   5]\n",
      " [  2 355]]\n",
      "Accuracy score of the model is:  0.99\n"
     ]
    }
   ],
   "source": [
    "from sklearn.metrics import confusion_matrix\n",
    "\n",
    "matrix_c = confusion_matrix(y, y_pred)\n",
    "print(matrix_c)\n",
    "print(\"Accuracy score of the model is: \", round(accuracy_score(y_pred, y), 2))"
   ],
   "metadata": {
    "collapsed": false,
    "ExecuteTime": {
     "end_time": "2023-12-07T15:46:42.974229800Z",
     "start_time": "2023-12-07T15:46:42.894577500Z"
    }
   },
   "id": "35591bc0d53a55a0"
  },
  {
   "cell_type": "code",
   "execution_count": 70,
   "outputs": [
    {
     "data": {
      "text/plain": "<Axes: >"
     },
     "execution_count": 70,
     "metadata": {},
     "output_type": "execute_result"
    },
    {
     "data": {
      "text/plain": "<Figure size 640x480 with 2 Axes>",
      "image/png": "[encoded data removed]"
     },
     "metadata": {},
     "output_type": "display_data"
    }
   ],
   "source": [
    "import seaborn as sns\n",
    "\n",
    "sns.heatmap(matrix_c, annot=True)"
   ],
   "metadata": {
    "collapsed": false,
    "ExecuteTime": {
     "end_time": "2023-12-07T15:46:55.577732200Z",
     "start_time": "2023-12-07T15:46:54.045771100Z"
    }
   },
   "id": "5046dc2ab33af61a"
  },
  {
   "cell_type": "code",
   "execution_count": 71,
   "outputs": [
    {
     "name": "stdout",
     "output_type": "stream",
     "text": [
      "              precision    recall  f1-score   support\n",
      "\n",
      "           0       0.99      0.98      0.98       212\n",
      "           1       0.99      0.99      0.99       357\n",
      "\n",
      "    accuracy                           0.99       569\n",
      "   macro avg       0.99      0.99      0.99       569\n",
      "weighted avg       0.99      0.99      0.99       569\n"
     ]
    }
   ],
   "source": [
    "from sklearn.metrics import classification_report\n",
    "\n",
    "print(classification_report(y, y_pred))"
   ],
   "metadata": {
    "collapsed": false,
    "ExecuteTime": {
     "end_time": "2023-12-07T15:47:17.422108500Z",
     "start_time": "2023-12-07T15:47:17.278309200Z"
    }
   },
   "id": "86a4c7b040feb09b"
  },
  {
   "cell_type": "code",
   "execution_count": null,
   "outputs": [],
   "source": [],
   "metadata": {
    "collapsed": false
   },
   "id": "7e576adb9315801b"
  }
 ],
 "metadata": {
  "kernelspec": {
   "display_name": "Python 3",
   "language": "python",
   "name": "python3"
  },
  "language_info": {
   "codemirror_mode": {
    "name": "ipython",
    "version": 2
   },
   "file_extension": ".py",
   "mimetype": "text/x-python",
   "name": "python",
   "nbconvert_exporter": "python",
   "pygments_lexer": "ipython2",
   "version": "2.7.6"
  }
 },
 "nbformat": 4,
 "nbformat_minor": 5
}
